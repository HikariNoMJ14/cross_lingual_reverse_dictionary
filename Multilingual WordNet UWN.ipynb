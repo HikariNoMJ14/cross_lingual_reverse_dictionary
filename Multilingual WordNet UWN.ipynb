{
 "cells": [
  {
   "cell_type": "markdown",
   "metadata": {},
   "source": [
    "README\n",
    "\n",
    "UWN 2010-10\n",
    "Gerard de Melo\n",
    "http://www.mpi-inf.mpg.de/yago-naga/uwn/\n",
    "\n",
    "\n",
    "== DESCRIPTION ==\n",
    "\n",
    "UWN is an automatically constructed multilingual lexical knowledge base\n",
    "based on the structure of Princeton WordNet. Please see the web site above\n",
    "for more information.\n",
    "\n",
    "UWN is best used in conjunction with the original WordNet created at\n",
    "at Princeton University. \n",
    "http://wordnet.princeton.edu\n",
    "\n",
    "\n",
    "== DATA FORMAT ==\n",
    "\n",
    "The gzip-compressed TSV file is best decompressed on the fly\n",
    "while reading for best performance. Each line contains subject, predicate,\n",
    "object, and weight, separated by tabs.\n",
    "Words and other terms are listed as \"t/<iso-639-3-language-code>/<string>\", e.g.\n",
    "\"t/eng/house\" for the English term \"house\".\n",
    "Predicates include \"rel:means\" for the relationship between a term and its meanings.\n",
    "WordNet senses are given as \"s/<wordnet-pos-tag><wordnet-3.0-synset-offset>\"\n",
    "(e.g. \"s/n1740\" for WordNet 3.0's entity synset).\n",
    "\n",
    "\n",
    "== CREDITS AND LICENSE ==\n",
    "\n",
    "Gerard de Melo\n",
    "http://icsi.berkeley.edy/~demelo/\n",
    "\n",
    "For academic use, please cite:\n",
    "Gerard de Melo and Gerhard Weikum (2009). Towards a Universal Wordnet by Learning from Combined Evidence.\n",
    "In: Proc. 18th ACM Conference on Information and Knowledge Management (CIKM 2009),\n",
    "Hong Kong, China. ACM, New York, USA.\n",
    "\n",
    "License: CC BY-NC-SA 3.0\n",
    "http://creativecommons.org/licenses/by-nc-sa/3.0/"
   ]
  },
  {
   "cell_type": "code",
   "execution_count": 41,
   "metadata": {},
   "outputs": [],
   "source": [
    "import pandas as pd\n",
    "\n",
    "df = pd.read_csv('../wordnet/data/uwn-dump_201012.tsv', delimiter='\\t', header=None, names=['subject', 'predicate', 'object', 'weight'])"
   ]
  },
  {
   "cell_type": "code",
   "execution_count": 42,
   "metadata": {},
   "outputs": [
    {
     "data": {
      "text/html": [
       "<div>\n",
       "<style scoped>\n",
       "    .dataframe tbody tr th:only-of-type {\n",
       "        vertical-align: middle;\n",
       "    }\n",
       "\n",
       "    .dataframe tbody tr th {\n",
       "        vertical-align: top;\n",
       "    }\n",
       "\n",
       "    .dataframe thead th {\n",
       "        text-align: right;\n",
       "    }\n",
       "</style>\n",
       "<table border=\"1\" class=\"dataframe\">\n",
       "  <thead>\n",
       "    <tr style=\"text-align: right;\">\n",
       "      <th></th>\n",
       "      <th>subject</th>\n",
       "      <th>predicate</th>\n",
       "      <th>object</th>\n",
       "      <th>weight</th>\n",
       "    </tr>\n",
       "  </thead>\n",
       "  <tbody>\n",
       "    <tr>\n",
       "      <th>0</th>\n",
       "      <td>t/xmf/ბულგარულ</td>\n",
       "      <td>rel:means</td>\n",
       "      <td>language/bul</td>\n",
       "      <td>1.187343</td>\n",
       "    </tr>\n",
       "    <tr>\n",
       "      <th>1</th>\n",
       "      <td>t/xmf/ბულგარულ</td>\n",
       "      <td>rel:means</td>\n",
       "      <td>s/n9695620</td>\n",
       "      <td>1.224455</td>\n",
       "    </tr>\n",
       "    <tr>\n",
       "      <th>2</th>\n",
       "      <td>t/xmf/ინგლისურ</td>\n",
       "      <td>rel:means</td>\n",
       "      <td>s/n6155432</td>\n",
       "      <td>0.938639</td>\n",
       "    </tr>\n",
       "    <tr>\n",
       "      <th>3</th>\n",
       "      <td>t/xmf/ინგლისურ</td>\n",
       "      <td>rel:means</td>\n",
       "      <td>s/n6947032</td>\n",
       "      <td>1.220780</td>\n",
       "    </tr>\n",
       "    <tr>\n",
       "      <th>4</th>\n",
       "      <td>t/xmf/ფრანგულ</td>\n",
       "      <td>rel:means</td>\n",
       "      <td>language/fra</td>\n",
       "      <td>1.337511</td>\n",
       "    </tr>\n",
       "  </tbody>\n",
       "</table>\n",
       "</div>"
      ],
      "text/plain": [
       "          subject  predicate        object    weight\n",
       "0  t/xmf/ბულგარულ  rel:means  language/bul  1.187343\n",
       "1  t/xmf/ბულგარულ  rel:means    s/n9695620  1.224455\n",
       "2  t/xmf/ინგლისურ  rel:means    s/n6155432  0.938639\n",
       "3  t/xmf/ინგლისურ  rel:means    s/n6947032  1.220780\n",
       "4   t/xmf/ფრანგულ  rel:means  language/fra  1.337511"
      ]
     },
     "execution_count": 42,
     "metadata": {},
     "output_type": "execute_result"
    }
   ],
   "source": [
    "df.head()"
   ]
  },
  {
   "cell_type": "code",
   "execution_count": 43,
   "metadata": {},
   "outputs": [],
   "source": [
    "terms = df[df.subject.str.startswith('t/')]"
   ]
  },
  {
   "cell_type": "code",
   "execution_count": 44,
   "metadata": {},
   "outputs": [],
   "source": [
    "synsets = df[df.subject.str.startswith('s/')]"
   ]
  },
  {
   "cell_type": "code",
   "execution_count": 45,
   "metadata": {},
   "outputs": [
    {
     "data": {
      "text/plain": [
       "rel:means    1848113\n",
       "Name: predicate, dtype: int64"
      ]
     },
     "execution_count": 45,
     "metadata": {},
     "output_type": "execute_result"
    }
   ],
   "source": [
    "terms.predicate.value_counts()"
   ]
  },
  {
   "cell_type": "code",
   "execution_count": 46,
   "metadata": {},
   "outputs": [
    {
     "data": {
      "text/plain": [
       "rel:lexicalization    1810685\n",
       "Name: predicate, dtype: int64"
      ]
     },
     "execution_count": 46,
     "metadata": {},
     "output_type": "execute_result"
    }
   ],
   "source": [
    "synsets.predicate.value_counts()"
   ]
  },
  {
   "cell_type": "markdown",
   "metadata": {},
   "source": [
    "Not sure what weight means... "
   ]
  },
  {
   "cell_type": "code",
   "execution_count": 47,
   "metadata": {},
   "outputs": [
    {
     "data": {
      "text/html": [
       "<div>\n",
       "<style scoped>\n",
       "    .dataframe tbody tr th:only-of-type {\n",
       "        vertical-align: middle;\n",
       "    }\n",
       "\n",
       "    .dataframe tbody tr th {\n",
       "        vertical-align: top;\n",
       "    }\n",
       "\n",
       "    .dataframe thead th {\n",
       "        text-align: right;\n",
       "    }\n",
       "</style>\n",
       "<table border=\"1\" class=\"dataframe\">\n",
       "  <thead>\n",
       "    <tr style=\"text-align: right;\">\n",
       "      <th></th>\n",
       "      <th>subject</th>\n",
       "      <th>predicate</th>\n",
       "      <th>object</th>\n",
       "      <th>weight</th>\n",
       "    </tr>\n",
       "  </thead>\n",
       "  <tbody>\n",
       "    <tr>\n",
       "      <th>13</th>\n",
       "      <td>s/n9002814</td>\n",
       "      <td>rel:lexicalization</td>\n",
       "      <td>t/tha/รัสเซีย</td>\n",
       "      <td>0.703229</td>\n",
       "    </tr>\n",
       "    <tr>\n",
       "      <th>14</th>\n",
       "      <td>s/n9002814</td>\n",
       "      <td>rel:lexicalization</td>\n",
       "      <td>t/tur/Rusya Federasyonu</td>\n",
       "      <td>0.730033</td>\n",
       "    </tr>\n",
       "    <tr>\n",
       "      <th>15</th>\n",
       "      <td>s/n9002814</td>\n",
       "      <td>rel:lexicalization</td>\n",
       "      <td>t/arb/روسيا</td>\n",
       "      <td>0.763194</td>\n",
       "    </tr>\n",
       "    <tr>\n",
       "      <th>16</th>\n",
       "      <td>s/n9002814</td>\n",
       "      <td>rel:lexicalization</td>\n",
       "      <td>t/ara/روسيا</td>\n",
       "      <td>0.707933</td>\n",
       "    </tr>\n",
       "    <tr>\n",
       "      <th>17</th>\n",
       "      <td>s/n9002814</td>\n",
       "      <td>rel:lexicalization</td>\n",
       "      <td>t/vol/Rusän</td>\n",
       "      <td>0.763194</td>\n",
       "    </tr>\n",
       "    <tr>\n",
       "      <th>18</th>\n",
       "      <td>s/n9002814</td>\n",
       "      <td>rel:lexicalization</td>\n",
       "      <td>t/lfn/Rusia</td>\n",
       "      <td>0.763194</td>\n",
       "    </tr>\n",
       "    <tr>\n",
       "      <th>19</th>\n",
       "      <td>s/n9002814</td>\n",
       "      <td>rel:lexicalization</td>\n",
       "      <td>t/ind/Rusia</td>\n",
       "      <td>0.733253</td>\n",
       "    </tr>\n",
       "    <tr>\n",
       "      <th>20</th>\n",
       "      <td>s/n9002814</td>\n",
       "      <td>rel:lexicalization</td>\n",
       "      <td>t/pes/روسیه</td>\n",
       "      <td>0.763194</td>\n",
       "    </tr>\n",
       "    <tr>\n",
       "      <th>21</th>\n",
       "      <td>s/n9002814</td>\n",
       "      <td>rel:lexicalization</td>\n",
       "      <td>t/hun/Oroszország</td>\n",
       "      <td>0.735622</td>\n",
       "    </tr>\n",
       "    <tr>\n",
       "      <th>22</th>\n",
       "      <td>s/n9002814</td>\n",
       "      <td>rel:lexicalization</td>\n",
       "      <td>t/lit/Rusijos Federacija</td>\n",
       "      <td>0.730033</td>\n",
       "    </tr>\n",
       "    <tr>\n",
       "      <th>23</th>\n",
       "      <td>s/n9002814</td>\n",
       "      <td>rel:lexicalization</td>\n",
       "      <td>t/rus/Российская Федерация</td>\n",
       "      <td>0.864462</td>\n",
       "    </tr>\n",
       "    <tr>\n",
       "      <th>24</th>\n",
       "      <td>s/n9002814</td>\n",
       "      <td>rel:lexicalization</td>\n",
       "      <td>t/rus/Россия</td>\n",
       "      <td>0.809144</td>\n",
       "    </tr>\n",
       "    <tr>\n",
       "      <th>25</th>\n",
       "      <td>s/n9002814</td>\n",
       "      <td>rel:lexicalization</td>\n",
       "      <td>t/ina/Russia</td>\n",
       "      <td>0.736904</td>\n",
       "    </tr>\n",
       "    <tr>\n",
       "      <th>26</th>\n",
       "      <td>s/n9002814</td>\n",
       "      <td>rel:lexicalization</td>\n",
       "      <td>t/dan/Rusland</td>\n",
       "      <td>0.718382</td>\n",
       "    </tr>\n",
       "    <tr>\n",
       "      <th>27</th>\n",
       "      <td>s/n9002814</td>\n",
       "      <td>rel:lexicalization</td>\n",
       "      <td>t/mar/रशिया</td>\n",
       "      <td>0.736904</td>\n",
       "    </tr>\n",
       "    <tr>\n",
       "      <th>28</th>\n",
       "      <td>s/n9002814</td>\n",
       "      <td>rel:lexicalization</td>\n",
       "      <td>t/ell/Ρωσία</td>\n",
       "      <td>0.707049</td>\n",
       "    </tr>\n",
       "    <tr>\n",
       "      <th>29</th>\n",
       "      <td>s/n9002814</td>\n",
       "      <td>rel:lexicalization</td>\n",
       "      <td>t/ces/Rusko</td>\n",
       "      <td>0.705554</td>\n",
       "    </tr>\n",
       "    <tr>\n",
       "      <th>30</th>\n",
       "      <td>s/n9002814</td>\n",
       "      <td>rel:lexicalization</td>\n",
       "      <td>t/eus/Errusia</td>\n",
       "      <td>0.718382</td>\n",
       "    </tr>\n",
       "    <tr>\n",
       "      <th>31</th>\n",
       "      <td>s/n9002814</td>\n",
       "      <td>rel:lexicalization</td>\n",
       "      <td>t/fin/Venäjä</td>\n",
       "      <td>0.707531</td>\n",
       "    </tr>\n",
       "    <tr>\n",
       "      <th>32</th>\n",
       "      <td>s/n9002814</td>\n",
       "      <td>rel:lexicalization</td>\n",
       "      <td>t/cat/Rússia</td>\n",
       "      <td>0.730555</td>\n",
       "    </tr>\n",
       "  </tbody>\n",
       "</table>\n",
       "</div>"
      ],
      "text/plain": [
       "       subject           predicate                      object    weight\n",
       "13  s/n9002814  rel:lexicalization               t/tha/รัสเซีย  0.703229\n",
       "14  s/n9002814  rel:lexicalization     t/tur/Rusya Federasyonu  0.730033\n",
       "15  s/n9002814  rel:lexicalization                 t/arb/روسيا  0.763194\n",
       "16  s/n9002814  rel:lexicalization                 t/ara/روسيا  0.707933\n",
       "17  s/n9002814  rel:lexicalization                 t/vol/Rusän  0.763194\n",
       "18  s/n9002814  rel:lexicalization                 t/lfn/Rusia  0.763194\n",
       "19  s/n9002814  rel:lexicalization                 t/ind/Rusia  0.733253\n",
       "20  s/n9002814  rel:lexicalization                 t/pes/روسیه  0.763194\n",
       "21  s/n9002814  rel:lexicalization           t/hun/Oroszország  0.735622\n",
       "22  s/n9002814  rel:lexicalization    t/lit/Rusijos Federacija  0.730033\n",
       "23  s/n9002814  rel:lexicalization  t/rus/Российская Федерация  0.864462\n",
       "24  s/n9002814  rel:lexicalization                t/rus/Россия  0.809144\n",
       "25  s/n9002814  rel:lexicalization                t/ina/Russia  0.736904\n",
       "26  s/n9002814  rel:lexicalization               t/dan/Rusland  0.718382\n",
       "27  s/n9002814  rel:lexicalization                 t/mar/रशिया  0.736904\n",
       "28  s/n9002814  rel:lexicalization                 t/ell/Ρωσία  0.707049\n",
       "29  s/n9002814  rel:lexicalization                 t/ces/Rusko  0.705554\n",
       "30  s/n9002814  rel:lexicalization               t/eus/Errusia  0.718382\n",
       "31  s/n9002814  rel:lexicalization                t/fin/Venäjä  0.707531\n",
       "32  s/n9002814  rel:lexicalization                t/cat/Rússia  0.730555"
      ]
     },
     "execution_count": 47,
     "metadata": {},
     "output_type": "execute_result"
    }
   ],
   "source": [
    "synsets.head(20)"
   ]
  },
  {
   "cell_type": "code",
   "execution_count": 48,
   "metadata": {},
   "outputs": [],
   "source": [
    "def extract_language(x):\n",
    "    split = x.split('/')\n",
    "    lan = split[1]\n",
    "    return lan\n",
    "\n",
    "def extract_term(x):\n",
    "    split = x.split('/')\n",
    "    term = split[2]\n",
    "    return term\n",
    "\n",
    "def extract_synset(x):\n",
    "    split = x.split('/')\n",
    "    synset = split[1][1:]\n",
    "    return synset\n",
    "\n",
    "def extract_pos(x):\n",
    "    split = x.split('/')\n",
    "    pos = split[1][0]\n",
    "    return pos"
   ]
  },
  {
   "cell_type": "code",
   "execution_count": 49,
   "metadata": {},
   "outputs": [],
   "source": [
    "terms = terms[terms.object.str.startswith('s/')]\n",
    "terms.loc[:, 'term'] = terms.subject.apply(extract_term)\n",
    "terms.loc[:, 'lan'] = terms.subject.apply(extract_language)\n",
    "terms.loc[:, 'synset'] = terms.object.apply(extract_synset)\n",
    "terms.loc[:, 'pos'] = terms.object.apply(extract_pos)"
   ]
  },
  {
   "cell_type": "code",
   "execution_count": 50,
   "metadata": {},
   "outputs": [],
   "source": [
    "uwn_terms = terms.drop(['subject', 'predicate', 'object'], axis=1)"
   ]
  },
  {
   "cell_type": "code",
   "execution_count": 51,
   "metadata": {},
   "outputs": [
    {
     "name": "stderr",
     "output_type": "stream",
     "text": [
      "/Users/manu/deep_learning_nlp/venv/lib/python3.8/site-packages/IPython/core/interactiveshell.py:3145: DtypeWarning: Columns (2) have mixed types.Specify dtype option on import or set low_memory=False.\n",
      "  has_raised = await self.run_ast_nodes(code_ast.body, cell_name,\n"
     ]
    }
   ],
   "source": [
    "import os\n",
    "\n",
    "columns = ['synset', 'type', 'term']\n",
    "wns = pd.DataFrame(columns=columns)\n",
    "\n",
    "for lan in os.listdir('../wordnet/data/wns/'):\n",
    "    filename = f'../wordnet/data/wns/{lan}/wn-data-{lan}.tab'\n",
    "    if os.path.isfile(filename):\n",
    "        df = pd.read_csv(filename, delimiter='\\t', names=columns, index_col=False, skiprows=1)\n",
    "        wns = pd.concat([wns, df],axis=0, ignore_index=True)"
   ]
  },
  {
   "cell_type": "code",
   "execution_count": 52,
   "metadata": {},
   "outputs": [
    {
     "data": {
      "text/html": [
       "<div>\n",
       "<style scoped>\n",
       "    .dataframe tbody tr th:only-of-type {\n",
       "        vertical-align: middle;\n",
       "    }\n",
       "\n",
       "    .dataframe tbody tr th {\n",
       "        vertical-align: top;\n",
       "    }\n",
       "\n",
       "    .dataframe thead th {\n",
       "        text-align: right;\n",
       "    }\n",
       "</style>\n",
       "<table border=\"1\" class=\"dataframe\">\n",
       "  <thead>\n",
       "    <tr style=\"text-align: right;\">\n",
       "      <th></th>\n",
       "      <th>synset</th>\n",
       "      <th>type</th>\n",
       "      <th>term</th>\n",
       "    </tr>\n",
       "  </thead>\n",
       "  <tbody>\n",
       "    <tr>\n",
       "      <th>0</th>\n",
       "      <td>00001740-a</td>\n",
       "      <td>lemma</td>\n",
       "      <td>able</td>\n",
       "    </tr>\n",
       "    <tr>\n",
       "      <th>1</th>\n",
       "      <td>00002098-a</td>\n",
       "      <td>lemma</td>\n",
       "      <td>unable</td>\n",
       "    </tr>\n",
       "    <tr>\n",
       "      <th>2</th>\n",
       "      <td>00002312-a</td>\n",
       "      <td>lemma</td>\n",
       "      <td>abaxial</td>\n",
       "    </tr>\n",
       "    <tr>\n",
       "      <th>3</th>\n",
       "      <td>00002312-a</td>\n",
       "      <td>lemma</td>\n",
       "      <td>dorsal</td>\n",
       "    </tr>\n",
       "    <tr>\n",
       "      <th>4</th>\n",
       "      <td>00002527-a</td>\n",
       "      <td>lemma</td>\n",
       "      <td>adaxial</td>\n",
       "    </tr>\n",
       "  </tbody>\n",
       "</table>\n",
       "</div>"
      ],
      "text/plain": [
       "       synset   type     term\n",
       "0  00001740-a  lemma     able\n",
       "1  00002098-a  lemma   unable\n",
       "2  00002312-a  lemma  abaxial\n",
       "3  00002312-a  lemma   dorsal\n",
       "4  00002527-a  lemma  adaxial"
      ]
     },
     "execution_count": 52,
     "metadata": {},
     "output_type": "execute_result"
    }
   ],
   "source": [
    "wns.head()"
   ]
  },
  {
   "cell_type": "code",
   "execution_count": 53,
   "metadata": {},
   "outputs": [],
   "source": [
    "def extract_language_2(x):\n",
    "    split = x.split(':')\n",
    "    lan = split[0]\n",
    "    return lan\n",
    "\n",
    "def extract_type(x):\n",
    "    split = x.split(':')\n",
    "    _type = split[1]\n",
    "    return _type"
   ]
  },
  {
   "cell_type": "code",
   "execution_count": 54,
   "metadata": {},
   "outputs": [],
   "source": [
    "wns['type'] = wns['type'].replace('lemma', 'fin:lemma')\n",
    "\n",
    "wns['lan'] = wns.type.apply(extract_language_2)\n",
    "wns['type'] = wns.type.apply(extract_type)\n",
    "wns['pos'] = wns['synset'].apply(lambda x: x[-1])\n",
    "wns['synset'] = wns['synset'].apply(lambda x: x[1:-2])"
   ]
  },
  {
   "cell_type": "code",
   "execution_count": 55,
   "metadata": {},
   "outputs": [],
   "source": [
    "import seaborn as sns"
   ]
  },
  {
   "cell_type": "code",
   "execution_count": 56,
   "metadata": {},
   "outputs": [
    {
     "data": {
      "text/plain": [
       "<AxesSubplot:ylabel='type'>"
      ]
     },
     "execution_count": 56,
     "metadata": {},
     "output_type": "execute_result"
    },
    {
     "data": {
      "image/png": "[encoded data removed]",
      "text/plain": [
       "<Figure size 432x288 with 1 Axes>"
      ]
     },
     "metadata": {
      "needs_background": "light"
     },
     "output_type": "display_data"
    }
   ],
   "source": [
    "sns.barplot(x=wns.type.value_counts().index, y=wns.type.value_counts())"
   ]
  },
  {
   "cell_type": "code",
   "execution_count": 57,
   "metadata": {},
   "outputs": [
    {
     "data": {
      "text/plain": [
       "fin    567164\n",
       "jpn    342037\n",
       "eng    183968\n",
       "ron    143393\n",
       "fra    102671\n",
       "slv     69405\n",
       "ita     67441\n",
       "nld     60259\n",
       "arb     54975\n",
       "pol     52380\n",
       "hrv     47900\n",
       "slk     44029\n",
       "ell     42251\n",
       "bul     28382\n",
       "als     17626\n",
       "isl     15462\n",
       "heb     13481\n",
       "swe      6989\n",
       "Name: lan, dtype: int64"
      ]
     },
     "execution_count": 57,
     "metadata": {},
     "output_type": "execute_result"
    }
   ],
   "source": [
    "wns.lan.value_counts()"
   ]
  },
  {
   "cell_type": "code",
   "execution_count": 58,
   "metadata": {},
   "outputs": [
    {
     "data": {
      "text/plain": [
       "723142     0\n",
       "723145     0\n",
       "723166     0\n",
       "723167     1\n",
       "723168     2\n",
       "          ..\n",
       "1859801    1\n",
       "1859802    2\n",
       "1859810    0\n",
       "1859811    1\n",
       "1859812    2\n",
       "Name: term, Length: 119773, dtype: object"
      ]
     },
     "execution_count": 58,
     "metadata": {},
     "output_type": "execute_result"
    }
   ],
   "source": [
    "wns[wns.type == 'exe'].term"
   ]
  },
  {
   "cell_type": "code",
   "execution_count": 59,
   "metadata": {},
   "outputs": [],
   "source": [
    "from nltk.corpus import wordnet as wn"
   ]
  },
  {
   "cell_type": "code",
   "execution_count": 60,
   "metadata": {},
   "outputs": [
    {
     "data": {
      "text/plain": [
       "[Synset('soviet_union.n.01'),\n",
       " Synset('soviet_russia.n.01'),\n",
       " Synset('russia.n.03'),\n",
       " Synset('russia.n.04')]"
      ]
     },
     "execution_count": 60,
     "metadata": {},
     "output_type": "execute_result"
    }
   ],
   "source": [
    "wn.synsets('Russia')"
   ]
  },
  {
   "cell_type": "code",
   "execution_count": 61,
   "metadata": {},
   "outputs": [
    {
     "data": {
      "text/html": [
       "<div>\n",
       "<style scoped>\n",
       "    .dataframe tbody tr th:only-of-type {\n",
       "        vertical-align: middle;\n",
       "    }\n",
       "\n",
       "    .dataframe tbody tr th {\n",
       "        vertical-align: top;\n",
       "    }\n",
       "\n",
       "    .dataframe thead th {\n",
       "        text-align: right;\n",
       "    }\n",
       "</style>\n",
       "<table border=\"1\" class=\"dataframe\">\n",
       "  <thead>\n",
       "    <tr style=\"text-align: right;\">\n",
       "      <th></th>\n",
       "      <th>synset</th>\n",
       "      <th>type</th>\n",
       "      <th>term</th>\n",
       "      <th>lan</th>\n",
       "      <th>pos</th>\n",
       "    </tr>\n",
       "  </thead>\n",
       "  <tbody>\n",
       "    <tr>\n",
       "      <th>143377</th>\n",
       "      <td>9002814</td>\n",
       "      <td>lemma</td>\n",
       "      <td>Russia</td>\n",
       "      <td>fin</td>\n",
       "      <td>n</td>\n",
       "    </tr>\n",
       "    <tr>\n",
       "      <th>143379</th>\n",
       "      <td>9003284</td>\n",
       "      <td>lemma</td>\n",
       "      <td>Russia</td>\n",
       "      <td>fin</td>\n",
       "      <td>n</td>\n",
       "    </tr>\n",
       "    <tr>\n",
       "      <th>143399</th>\n",
       "      <td>9006413</td>\n",
       "      <td>lemma</td>\n",
       "      <td>Russia</td>\n",
       "      <td>fin</td>\n",
       "      <td>n</td>\n",
       "    </tr>\n",
       "    <tr>\n",
       "      <th>143404</th>\n",
       "      <td>9007723</td>\n",
       "      <td>lemma</td>\n",
       "      <td>Russia</td>\n",
       "      <td>fin</td>\n",
       "      <td>n</td>\n",
       "    </tr>\n",
       "    <tr>\n",
       "      <th>797897</th>\n",
       "      <td>9003284</td>\n",
       "      <td>lemma</td>\n",
       "      <td>Russia</td>\n",
       "      <td>ita</td>\n",
       "      <td>n</td>\n",
       "    </tr>\n",
       "  </tbody>\n",
       "</table>\n",
       "</div>"
      ],
      "text/plain": [
       "         synset   type    term  lan pos\n",
       "143377  9002814  lemma  Russia  fin   n\n",
       "143379  9003284  lemma  Russia  fin   n\n",
       "143399  9006413  lemma  Russia  fin   n\n",
       "143404  9007723  lemma  Russia  fin   n\n",
       "797897  9003284  lemma  Russia  ita   n"
      ]
     },
     "execution_count": 61,
     "metadata": {},
     "output_type": "execute_result"
    }
   ],
   "source": [
    "wns[wns.term == 'Russia'].head()"
   ]
  },
  {
   "cell_type": "code",
   "execution_count": 62,
   "metadata": {},
   "outputs": [
    {
     "data": {
      "text/plain": [
       "deu    110591\n",
       "cmn    104763\n",
       "fra     72022\n",
       "eng     69454\n",
       "kor     69084\n",
       "        ...  \n",
       "sma         1\n",
       "mam         1\n",
       "ars         1\n",
       "ndo         1\n",
       "swb         1\n",
       "Name: lan, Length: 417, dtype: int64"
      ]
     },
     "execution_count": 62,
     "metadata": {},
     "output_type": "execute_result"
    }
   ],
   "source": [
    "uwn_terms.lan.value_counts()"
   ]
  },
  {
   "cell_type": "code",
   "execution_count": 63,
   "metadata": {},
   "outputs": [],
   "source": [
    "wns_lemma = wns[wns.type == 'lemma'].drop(['type'], axis=1)\n",
    "uwn_terms = uwn_terms.drop(['weight'], axis=1)"
   ]
  },
  {
   "cell_type": "code",
   "execution_count": 67,
   "metadata": {},
   "outputs": [],
   "source": [
    "def get_wn_synset(synset, pos):\n",
    "    return wn.of2ss(f'0{synset}-{pos}')"
   ]
  },
  {
   "cell_type": "code",
   "execution_count": 68,
   "metadata": {},
   "outputs": [
    {
     "data": {
      "text/plain": [
       "Synset('able.a.01')"
      ]
     },
     "execution_count": 68,
     "metadata": {},
     "output_type": "execute_result"
    }
   ],
   "source": [
    "get_wn_synset(wns_lemma.synset.iloc[0], wns_lemma.pos.iloc[0])"
   ]
  },
  {
   "cell_type": "code",
   "execution_count": 69,
   "metadata": {},
   "outputs": [
    {
     "data": {
      "text/plain": [
       "Synset('bulgarian.n.01')"
      ]
     },
     "execution_count": 69,
     "metadata": {},
     "output_type": "execute_result"
    }
   ],
   "source": [
    "get_wn_synset(uwn_terms.synset.iloc[0], uwn_terms.pos.iloc[0])"
   ]
  },
  {
   "cell_type": "code",
   "execution_count": 29,
   "metadata": {},
   "outputs": [],
   "source": [
    "tot = pd.concat([uwn_terms, wns_lemma], axis=0)"
   ]
  },
  {
   "cell_type": "code",
   "execution_count": 30,
   "metadata": {},
   "outputs": [
    {
     "data": {
      "text/plain": [
       "(3181180, 4)"
      ]
     },
     "execution_count": 30,
     "metadata": {},
     "output_type": "execute_result"
    }
   ],
   "source": [
    "tot.shape"
   ]
  },
  {
   "cell_type": "code",
   "execution_count": 31,
   "metadata": {},
   "outputs": [
    {
     "data": {
      "text/plain": [
       "1352936"
      ]
     },
     "execution_count": 31,
     "metadata": {},
     "output_type": "execute_result"
    }
   ],
   "source": [
    "tot.term.duplicated().sum()"
   ]
  },
  {
   "cell_type": "code",
   "execution_count": 32,
   "metadata": {},
   "outputs": [
    {
     "data": {
      "text/html": [
       "<div>\n",
       "<style scoped>\n",
       "    .dataframe tbody tr th:only-of-type {\n",
       "        vertical-align: middle;\n",
       "    }\n",
       "\n",
       "    .dataframe tbody tr th {\n",
       "        vertical-align: top;\n",
       "    }\n",
       "\n",
       "    .dataframe thead th {\n",
       "        text-align: right;\n",
       "    }\n",
       "</style>\n",
       "<table border=\"1\" class=\"dataframe\">\n",
       "  <thead>\n",
       "    <tr style=\"text-align: right;\">\n",
       "      <th></th>\n",
       "      <th>term</th>\n",
       "      <th>lan</th>\n",
       "      <th>synset</th>\n",
       "      <th>pos</th>\n",
       "    </tr>\n",
       "  </thead>\n",
       "  <tbody>\n",
       "    <tr>\n",
       "      <th>1</th>\n",
       "      <td>ბულგარულ</td>\n",
       "      <td>xmf</td>\n",
       "      <td>9695620</td>\n",
       "      <td>n</td>\n",
       "    </tr>\n",
       "    <tr>\n",
       "      <th>2</th>\n",
       "      <td>ინგლისურ</td>\n",
       "      <td>xmf</td>\n",
       "      <td>6155432</td>\n",
       "      <td>n</td>\n",
       "    </tr>\n",
       "    <tr>\n",
       "      <th>3</th>\n",
       "      <td>ინგლისურ</td>\n",
       "      <td>xmf</td>\n",
       "      <td>6947032</td>\n",
       "      <td>n</td>\n",
       "    </tr>\n",
       "    <tr>\n",
       "      <th>5</th>\n",
       "      <td>ფრანგულ</td>\n",
       "      <td>xmf</td>\n",
       "      <td>9708405</td>\n",
       "      <td>n</td>\n",
       "    </tr>\n",
       "    <tr>\n",
       "      <th>7</th>\n",
       "      <td>ესპანურ</td>\n",
       "      <td>xmf</td>\n",
       "      <td>9731906</td>\n",
       "      <td>n</td>\n",
       "    </tr>\n",
       "  </tbody>\n",
       "</table>\n",
       "</div>"
      ],
      "text/plain": [
       "       term  lan   synset pos\n",
       "1  ბულგარულ  xmf  9695620   n\n",
       "2  ინგლისურ  xmf  6155432   n\n",
       "3  ინგლისურ  xmf  6947032   n\n",
       "5   ფრანგულ  xmf  9708405   n\n",
       "7   ესპანურ  xmf  9731906   n"
      ]
     },
     "execution_count": 32,
     "metadata": {},
     "output_type": "execute_result"
    }
   ],
   "source": [
    "tot.head()"
   ]
  },
  {
   "cell_type": "code",
   "execution_count": 33,
   "metadata": {},
   "outputs": [
    {
     "data": {
      "text/plain": [
       "fin    612176\n",
       "jpn    179885\n",
       "fra    174693\n",
       "ita    123133\n",
       "deu    110591\n",
       "        ...  \n",
       "lub         1\n",
       "aka         1\n",
       "sid         1\n",
       "ban         1\n",
       "tay         1\n",
       "Name: lan, Length: 417, dtype: int64"
      ]
     },
     "execution_count": 33,
     "metadata": {},
     "output_type": "execute_result"
    }
   ],
   "source": [
    "tot.lan.value_counts()"
   ]
  },
  {
   "cell_type": "code",
   "execution_count": 34,
   "metadata": {},
   "outputs": [
    {
     "data": {
      "text/plain": [
       "GAP!                    1298\n",
       "biti                     724\n",
       "imeti                    167\n",
       "faire                    160\n",
       "face                     160\n",
       "                        ... \n",
       "nacela                     1\n",
       "zàmišljeno                 1\n",
       "psychomotor epilepsy       1\n",
       "uvodna riječ               1\n",
       "                           1\n",
       "Name: term, Length: 1828243, dtype: int64"
      ]
     },
     "execution_count": 34,
     "metadata": {},
     "output_type": "execute_result"
    }
   ],
   "source": [
    "tot.term.value_counts()"
   ]
  },
  {
   "cell_type": "code",
   "execution_count": 35,
   "metadata": {},
   "outputs": [
    {
     "data": {
      "text/plain": [
       "n    2111276\n",
       "a     486104\n",
       "v     477034\n",
       "r     102754\n",
       "s       4012\n",
       "Name: pos, dtype: int64"
      ]
     },
     "execution_count": 35,
     "metadata": {},
     "output_type": "execute_result"
    }
   ],
   "source": [
    "tot.pos.value_counts()"
   ]
  },
  {
   "cell_type": "code",
   "execution_count": 40,
   "metadata": {},
   "outputs": [
    {
     "data": {
      "text/plain": [
       "jpn    135692\n",
       "eng    135692\n",
       "ron     58754\n",
       "ell     18136\n",
       "heb      6609\n",
       "bul      4969\n",
       "als      4686\n",
       "slv      2838\n",
       "ita      2169\n",
       "Name: lan, dtype: int64"
      ]
     },
     "execution_count": 40,
     "metadata": {},
     "output_type": "execute_result"
    }
   ],
   "source": [
    "wns[wns.type == 'def'].lan.value_counts()"
   ]
  },
  {
   "cell_type": "code",
   "execution_count": 120,
   "metadata": {},
   "outputs": [
    {
     "name": "stdout",
     "output_type": "stream",
     "text": [
      "         synset                   term  lan pos\n",
      "792486  3744521                      5  ita   n\n",
      "792487  3744521                      V  ita   n\n",
      "792488  3744521                 cinque  ita   n\n",
      "792489  3749644                     50  ita   n\n",
      "792490  3749644                      L  ita   n\n",
      "...         ...                    ...  ...  ..\n",
      "859922  3789794     vestito da buffone  ita   n\n",
      "859923  3789794    vestito da giullare  ita   n\n",
      "859924  2781121       vestito da ballo  ita   n\n",
      "859925  3201638        vestito da sera  ita   n\n",
      "859926  9504135  essere soprannaturale  ita   n\n",
      "\n",
      "[63317 rows x 4 columns]\n"
     ]
    }
   ],
   "source": [
    "ita_wns = wns[(wns.lan == 'ita') & (wns.type == 'lemma')].drop('type', axis=1)\n",
    "print(ita_wns)"
   ]
  },
  {
   "cell_type": "code",
   "execution_count": 121,
   "metadata": {},
   "outputs": [
    {
     "name": "stdout",
     "output_type": "stream",
     "text": [
      "                         term  lan   synset pos\n",
      "1607635               bulgara  ita  9695620   n\n",
      "1607637               Bulgaro  ita  9695620   n\n",
      "1607638               bulgaro  ita  3051307   a\n",
      "1607640               inglese  ita  3003344   a\n",
      "1607641               inglese  ita  9701833   n\n",
      "...                       ...  ...      ...  ..\n",
      "1788207  impiegato in ufficio  ita  9928451   n\n",
      "1788208                pinata  ita  9392402   n\n",
      "1788209            binacheria  ita  3672352   n\n",
      "1788211          bretelle sfp  ita  2887489   n\n",
      "1788212   playa sm ombrellone  ita  4395024   n\n",
      "\n",
      "[59816 rows x 4 columns]\n"
     ]
    }
   ],
   "source": [
    "ita_uwn = uwn_terms[uwn_terms.lan == 'ita']\n",
    "print(ita_uwn)"
   ]
  },
  {
   "cell_type": "code",
   "execution_count": 122,
   "metadata": {},
   "outputs": [],
   "source": [
    "unique_ita_terms_wns = set(ita_wns.term.unique())"
   ]
  },
  {
   "cell_type": "code",
   "execution_count": 123,
   "metadata": {},
   "outputs": [],
   "source": [
    "unique_ita_terms_uwn = set(ita_uwn.term.unique())"
   ]
  },
  {
   "cell_type": "code",
   "execution_count": 124,
   "metadata": {},
   "outputs": [
    {
     "data": {
      "text/plain": [
       "17473"
      ]
     },
     "execution_count": 124,
     "metadata": {},
     "output_type": "execute_result"
    }
   ],
   "source": [
    "len(unique_ita_terms_wns.difference(unique_ita_terms_uwn))"
   ]
  },
  {
   "cell_type": "code",
   "execution_count": 125,
   "metadata": {},
   "outputs": [
    {
     "data": {
      "text/plain": [
       "20466"
      ]
     },
     "execution_count": 125,
     "metadata": {},
     "output_type": "execute_result"
    }
   ],
   "source": [
    "len(unique_ita_terms_uwn.difference(unique_ita_terms_wns))"
   ]
  },
  {
   "cell_type": "code",
   "execution_count": 126,
   "metadata": {},
   "outputs": [
    {
     "data": {
      "text/plain": [
       "62321"
      ]
     },
     "execution_count": 126,
     "metadata": {},
     "output_type": "execute_result"
    }
   ],
   "source": [
    "len(unique_ita_terms_wns.union(unique_ita_terms_uwn))"
   ]
  },
  {
   "cell_type": "code",
   "execution_count": 127,
   "metadata": {},
   "outputs": [
    {
     "data": {
      "text/plain": [
       "41855"
      ]
     },
     "execution_count": 127,
     "metadata": {},
     "output_type": "execute_result"
    }
   ],
   "source": [
    "len(unique_ita_terms_wns)"
   ]
  },
  {
   "cell_type": "code",
   "execution_count": 128,
   "metadata": {},
   "outputs": [
    {
     "data": {
      "text/plain": [
       "44848"
      ]
     },
     "execution_count": 128,
     "metadata": {},
     "output_type": "execute_result"
    }
   ],
   "source": [
    "len(unique_ita_terms_uwn)"
   ]
  },
  {
   "cell_type": "code",
   "execution_count": 129,
   "metadata": {},
   "outputs": [],
   "source": [
    "tot_ita = pd.concat([ita_uwn, ita_wns], axis=0)"
   ]
  },
  {
   "cell_type": "code",
   "execution_count": 130,
   "metadata": {},
   "outputs": [
    {
     "data": {
      "text/plain": [
       "62321"
      ]
     },
     "execution_count": 130,
     "metadata": {},
     "output_type": "execute_result"
    }
   ],
   "source": [
    "len(set(tot_ita.term.unique()))"
   ]
  },
  {
   "cell_type": "code",
   "execution_count": 138,
   "metadata": {},
   "outputs": [],
   "source": [
    "tot_ita = tot_ita.drop_duplicates(subset=['synset', 'term'], keep='first')"
   ]
  },
  {
   "cell_type": "code",
   "execution_count": 140,
   "metadata": {},
   "outputs": [
    {
     "data": {
      "text/html": [
       "<div>\n",
       "<style scoped>\n",
       "    .dataframe tbody tr th:only-of-type {\n",
       "        vertical-align: middle;\n",
       "    }\n",
       "\n",
       "    .dataframe tbody tr th {\n",
       "        vertical-align: top;\n",
       "    }\n",
       "\n",
       "    .dataframe thead th {\n",
       "        text-align: right;\n",
       "    }\n",
       "</style>\n",
       "<table border=\"1\" class=\"dataframe\">\n",
       "  <thead>\n",
       "    <tr style=\"text-align: right;\">\n",
       "      <th></th>\n",
       "      <th>term</th>\n",
       "      <th>lan</th>\n",
       "      <th>synset</th>\n",
       "      <th>pos</th>\n",
       "    </tr>\n",
       "  </thead>\n",
       "  <tbody>\n",
       "    <tr>\n",
       "      <th>1607635</th>\n",
       "      <td>bulgara</td>\n",
       "      <td>ita</td>\n",
       "      <td>9695620</td>\n",
       "      <td>n</td>\n",
       "    </tr>\n",
       "    <tr>\n",
       "      <th>1607637</th>\n",
       "      <td>Bulgaro</td>\n",
       "      <td>ita</td>\n",
       "      <td>9695620</td>\n",
       "      <td>n</td>\n",
       "    </tr>\n",
       "    <tr>\n",
       "      <th>1607638</th>\n",
       "      <td>bulgaro</td>\n",
       "      <td>ita</td>\n",
       "      <td>3051307</td>\n",
       "      <td>a</td>\n",
       "    </tr>\n",
       "    <tr>\n",
       "      <th>1607640</th>\n",
       "      <td>inglese</td>\n",
       "      <td>ita</td>\n",
       "      <td>3003344</td>\n",
       "      <td>a</td>\n",
       "    </tr>\n",
       "    <tr>\n",
       "      <th>1607641</th>\n",
       "      <td>inglese</td>\n",
       "      <td>ita</td>\n",
       "      <td>9701833</td>\n",
       "      <td>n</td>\n",
       "    </tr>\n",
       "    <tr>\n",
       "      <th>...</th>\n",
       "      <td>...</td>\n",
       "      <td>...</td>\n",
       "      <td>...</td>\n",
       "      <td>...</td>\n",
       "    </tr>\n",
       "    <tr>\n",
       "      <th>859922</th>\n",
       "      <td>vestito da buffone</td>\n",
       "      <td>ita</td>\n",
       "      <td>3789794</td>\n",
       "      <td>n</td>\n",
       "    </tr>\n",
       "    <tr>\n",
       "      <th>859923</th>\n",
       "      <td>vestito da giullare</td>\n",
       "      <td>ita</td>\n",
       "      <td>3789794</td>\n",
       "      <td>n</td>\n",
       "    </tr>\n",
       "    <tr>\n",
       "      <th>859924</th>\n",
       "      <td>vestito da ballo</td>\n",
       "      <td>ita</td>\n",
       "      <td>2781121</td>\n",
       "      <td>n</td>\n",
       "    </tr>\n",
       "    <tr>\n",
       "      <th>859925</th>\n",
       "      <td>vestito da sera</td>\n",
       "      <td>ita</td>\n",
       "      <td>3201638</td>\n",
       "      <td>n</td>\n",
       "    </tr>\n",
       "    <tr>\n",
       "      <th>859926</th>\n",
       "      <td>essere soprannaturale</td>\n",
       "      <td>ita</td>\n",
       "      <td>9504135</td>\n",
       "      <td>n</td>\n",
       "    </tr>\n",
       "  </tbody>\n",
       "</table>\n",
       "<p>110319 rows × 4 columns</p>\n",
       "</div>"
      ],
      "text/plain": [
       "                          term  lan   synset pos\n",
       "1607635                bulgara  ita  9695620   n\n",
       "1607637                Bulgaro  ita  9695620   n\n",
       "1607638                bulgaro  ita  3051307   a\n",
       "1607640                inglese  ita  3003344   a\n",
       "1607641                inglese  ita  9701833   n\n",
       "...                        ...  ...      ...  ..\n",
       "859922      vestito da buffone  ita  3789794   n\n",
       "859923     vestito da giullare  ita  3789794   n\n",
       "859924        vestito da ballo  ita  2781121   n\n",
       "859925         vestito da sera  ita  3201638   n\n",
       "859926   essere soprannaturale  ita  9504135   n\n",
       "\n",
       "[110319 rows x 4 columns]"
      ]
     },
     "execution_count": 140,
     "metadata": {},
     "output_type": "execute_result"
    }
   ],
   "source": [
    "tot_ita"
   ]
  },
  {
   "cell_type": "code",
   "execution_count": 141,
   "metadata": {},
   "outputs": [],
   "source": [
    "from babelnet_api import get_synset"
   ]
  },
  {
   "cell_type": "code",
   "execution_count": 145,
   "metadata": {},
   "outputs": [
    {
     "name": "stdout",
     "output_type": "stream",
     "text": [
      "bulgara bn:00013757n NOUN\n",
      "Bulgaro bn:00013757n NOUN\n",
      "bulgaro bn:00099000a ADJ\n",
      "inglese bn:00102248a ADJ\n",
      "inglese bn:00030892n NOUN\n"
     ]
    }
   ],
   "source": [
    "for i in range(5):\n",
    "    row = tot_ita.iloc[i, :]\n",
    "    res = get_synset(f\"wn:0{row['synset']}{row['pos']}\")\n",
    "    synset = res.json()['senses'][0]['properties']['synsetID']\n",
    "\n",
    "    id = synset['id']\n",
    "    pos = synset['pos']\n",
    "    print(row['term'], id, pos)"
   ]
  },
  {
   "cell_type": "code",
   "execution_count": 146,
   "metadata": {},
   "outputs": [
    {
     "data": {
      "text/html": [
       "<div>\n",
       "<style scoped>\n",
       "    .dataframe tbody tr th:only-of-type {\n",
       "        vertical-align: middle;\n",
       "    }\n",
       "\n",
       "    .dataframe tbody tr th {\n",
       "        vertical-align: top;\n",
       "    }\n",
       "\n",
       "    .dataframe thead th {\n",
       "        text-align: right;\n",
       "    }\n",
       "</style>\n",
       "<table border=\"1\" class=\"dataframe\">\n",
       "  <thead>\n",
       "    <tr style=\"text-align: right;\">\n",
       "      <th></th>\n",
       "      <th>synset</th>\n",
       "      <th>type</th>\n",
       "      <th>term</th>\n",
       "      <th>lan</th>\n",
       "      <th>pos</th>\n",
       "    </tr>\n",
       "  </thead>\n",
       "  <tbody>\n",
       "    <tr>\n",
       "      <th>0</th>\n",
       "      <td>0001740</td>\n",
       "      <td>lemma</td>\n",
       "      <td>able</td>\n",
       "      <td>fin</td>\n",
       "      <td>a</td>\n",
       "    </tr>\n",
       "    <tr>\n",
       "      <th>1</th>\n",
       "      <td>0002098</td>\n",
       "      <td>lemma</td>\n",
       "      <td>unable</td>\n",
       "      <td>fin</td>\n",
       "      <td>a</td>\n",
       "    </tr>\n",
       "    <tr>\n",
       "      <th>2</th>\n",
       "      <td>0002312</td>\n",
       "      <td>lemma</td>\n",
       "      <td>abaxial</td>\n",
       "      <td>fin</td>\n",
       "      <td>a</td>\n",
       "    </tr>\n",
       "    <tr>\n",
       "      <th>3</th>\n",
       "      <td>0002312</td>\n",
       "      <td>lemma</td>\n",
       "      <td>dorsal</td>\n",
       "      <td>fin</td>\n",
       "      <td>a</td>\n",
       "    </tr>\n",
       "    <tr>\n",
       "      <th>4</th>\n",
       "      <td>0002527</td>\n",
       "      <td>lemma</td>\n",
       "      <td>adaxial</td>\n",
       "      <td>fin</td>\n",
       "      <td>a</td>\n",
       "    </tr>\n",
       "    <tr>\n",
       "      <th>...</th>\n",
       "      <td>...</td>\n",
       "      <td>...</td>\n",
       "      <td>...</td>\n",
       "      <td>...</td>\n",
       "      <td>...</td>\n",
       "    </tr>\n",
       "    <tr>\n",
       "      <th>1859808</th>\n",
       "      <td>1684899</td>\n",
       "      <td>lemma</td>\n",
       "      <td>рисувам</td>\n",
       "      <td>bul</td>\n",
       "      <td>v</td>\n",
       "    </tr>\n",
       "    <tr>\n",
       "      <th>1859809</th>\n",
       "      <td>1684899</td>\n",
       "      <td>def</td>\n",
       "      <td>0</td>\n",
       "      <td>bul</td>\n",
       "      <td>v</td>\n",
       "    </tr>\n",
       "    <tr>\n",
       "      <th>1859810</th>\n",
       "      <td>1684899</td>\n",
       "      <td>exe</td>\n",
       "      <td>0</td>\n",
       "      <td>bul</td>\n",
       "      <td>v</td>\n",
       "    </tr>\n",
       "    <tr>\n",
       "      <th>1859811</th>\n",
       "      <td>1684899</td>\n",
       "      <td>exe</td>\n",
       "      <td>1</td>\n",
       "      <td>bul</td>\n",
       "      <td>v</td>\n",
       "    </tr>\n",
       "    <tr>\n",
       "      <th>1859812</th>\n",
       "      <td>1684899</td>\n",
       "      <td>exe</td>\n",
       "      <td>2</td>\n",
       "      <td>bul</td>\n",
       "      <td>v</td>\n",
       "    </tr>\n",
       "  </tbody>\n",
       "</table>\n",
       "<p>1859813 rows × 5 columns</p>\n",
       "</div>"
      ],
      "text/plain": [
       "          synset   type     term  lan pos\n",
       "0        0001740  lemma     able  fin   a\n",
       "1        0002098  lemma   unable  fin   a\n",
       "2        0002312  lemma  abaxial  fin   a\n",
       "3        0002312  lemma   dorsal  fin   a\n",
       "4        0002527  lemma  adaxial  fin   a\n",
       "...          ...    ...      ...  ...  ..\n",
       "1859808  1684899  lemma  рисувам  bul   v\n",
       "1859809  1684899    def        0  bul   v\n",
       "1859810  1684899    exe        0  bul   v\n",
       "1859811  1684899    exe        1  bul   v\n",
       "1859812  1684899    exe        2  bul   v\n",
       "\n",
       "[1859813 rows x 5 columns]"
      ]
     },
     "execution_count": 146,
     "metadata": {},
     "output_type": "execute_result"
    }
   ],
   "source": [
    "wns"
   ]
  },
  {
   "cell_type": "code",
   "execution_count": null,
   "metadata": {},
   "outputs": [],
   "source": []
  }
 ],
 "metadata": {
  "kernelspec": {
   "display_name": "Python 3",
   "language": "python",
   "name": "python3"
  },
  "language_info": {
   "codemirror_mode": {
    "name": "ipython",
    "version": 3
   },
   "file_extension": ".py",
   "mimetype": "text/x-python",
   "name": "python",
   "nbconvert_exporter": "python",
   "pygments_lexer": "ipython3",
   "version": "3.8.6"
  }
 },
 "nbformat": 4,
 "nbformat_minor": 4
}
