{
 "cells": [
  {
   "cell_type": "markdown",
   "metadata": {},
   "source": [
    "README\n",
    "\n",
    "UWN 2010-10\n",
    "Gerard de Melo\n",
    "http://www.mpi-inf.mpg.de/yago-naga/uwn/\n",
    "\n",
    "\n",
    "== DESCRIPTION ==\n",
    "\n",
    "UWN is an automatically constructed multilingual lexical knowledge base\n",
    "based on the structure of Princeton WordNet. Please see the web site above\n",
    "for more information.\n",
    "\n",
    "UWN is best used in conjunction with the original WordNet created at\n",
    "at Princeton University. \n",
    "http://wordnet.princeton.edu\n",
    "\n",
    "\n",
    "== DATA FORMAT ==\n",
    "\n",
    "The gzip-compressed TSV file is best decompressed on the fly\n",
    "while reading for best performance. Each line contains subject, predicate,\n",
    "object, and weight, separated by tabs.\n",
    "Words and other terms are listed as \"t/<iso-639-3-language-code>/<string>\", e.g.\n",
    "\"t/eng/house\" for the English term \"house\".\n",
    "Predicates include \"rel:means\" for the relationship between a term and its meanings.\n",
    "WordNet senses are given as \"s/<wordnet-pos-tag><wordnet-3.0-synset-offset>\"\n",
    "(e.g. \"s/n1740\" for WordNet 3.0's entity synset).\n",
    "\n",
    "\n",
    "== CREDITS AND LICENSE ==\n",
    "\n",
    "Gerard de Melo\n",
    "http://icsi.berkeley.edy/~demelo/\n",
    "\n",
    "For academic use, please cite:\n",
    "Gerard de Melo and Gerhard Weikum (2009). Towards a Universal Wordnet by Learning from Combined Evidence.\n",
    "In: Proc. 18th ACM Conference on Information and Knowledge Management (CIKM 2009),\n",
    "Hong Kong, China. ACM, New York, USA.\n",
    "\n",
    "License: CC BY-NC-SA 3.0\n",
    "http://creativecommons.org/licenses/by-nc-sa/3.0/"
   ]
  },
  {
   "cell_type": "code",
   "execution_count": 7,
   "metadata": {},
   "outputs": [],
   "source": [
    "import pandas as pd\n",
    "\n",
    "df = pd.read_csv('./wordnet/data/uwn-dump_201012.tsv', delimiter='\\t', header=None, names=['subject', 'predicate', 'object', 'weight'])"
   ]
  },
  {
   "cell_type": "code",
   "execution_count": 10,
   "metadata": {},
   "outputs": [
    {
     "data": {
      "text/html": [
       "<div>\n",
       "<style scoped>\n",
       "    .dataframe tbody tr th:only-of-type {\n",
       "        vertical-align: middle;\n",
       "    }\n",
       "\n",
       "    .dataframe tbody tr th {\n",
       "        vertical-align: top;\n",
       "    }\n",
       "\n",
       "    .dataframe thead th {\n",
       "        text-align: right;\n",
       "    }\n",
       "</style>\n",
       "<table border=\"1\" class=\"dataframe\">\n",
       "  <thead>\n",
       "    <tr style=\"text-align: right;\">\n",
       "      <th></th>\n",
       "      <th>subject</th>\n",
       "      <th>predicate</th>\n",
       "      <th>object</th>\n",
       "      <th>weight</th>\n",
       "    </tr>\n",
       "  </thead>\n",
       "  <tbody>\n",
       "    <tr>\n",
       "      <th>0</th>\n",
       "      <td>t/xmf/ბულგარულ</td>\n",
       "      <td>rel:means</td>\n",
       "      <td>language/bul</td>\n",
       "      <td>1.187343</td>\n",
       "    </tr>\n",
       "    <tr>\n",
       "      <th>1</th>\n",
       "      <td>t/xmf/ბულგარულ</td>\n",
       "      <td>rel:means</td>\n",
       "      <td>s/n9695620</td>\n",
       "      <td>1.224455</td>\n",
       "    </tr>\n",
       "    <tr>\n",
       "      <th>2</th>\n",
       "      <td>t/xmf/ინგლისურ</td>\n",
       "      <td>rel:means</td>\n",
       "      <td>s/n6155432</td>\n",
       "      <td>0.938639</td>\n",
       "    </tr>\n",
       "    <tr>\n",
       "      <th>3</th>\n",
       "      <td>t/xmf/ინგლისურ</td>\n",
       "      <td>rel:means</td>\n",
       "      <td>s/n6947032</td>\n",
       "      <td>1.220780</td>\n",
       "    </tr>\n",
       "    <tr>\n",
       "      <th>4</th>\n",
       "      <td>t/xmf/ფრანგულ</td>\n",
       "      <td>rel:means</td>\n",
       "      <td>language/fra</td>\n",
       "      <td>1.337511</td>\n",
       "    </tr>\n",
       "  </tbody>\n",
       "</table>\n",
       "</div>"
      ],
      "text/plain": [
       "          subject  predicate        object    weight\n",
       "0  t/xmf/ბულგარულ  rel:means  language/bul  1.187343\n",
       "1  t/xmf/ბულგარულ  rel:means    s/n9695620  1.224455\n",
       "2  t/xmf/ინგლისურ  rel:means    s/n6155432  0.938639\n",
       "3  t/xmf/ინგლისურ  rel:means    s/n6947032  1.220780\n",
       "4   t/xmf/ფრანგულ  rel:means  language/fra  1.337511"
      ]
     },
     "execution_count": 10,
     "metadata": {},
     "output_type": "execute_result"
    }
   ],
   "source": [
    "df.head()"
   ]
  },
  {
   "cell_type": "code",
   "execution_count": 12,
   "metadata": {},
   "outputs": [],
   "source": [
    "terms = df[df.subject.str.startswith('t/')]"
   ]
  },
  {
   "cell_type": "code",
   "execution_count": 13,
   "metadata": {},
   "outputs": [],
   "source": [
    "synsets = df[df.subject.str.startswith('s/')]"
   ]
  },
  {
   "cell_type": "code",
   "execution_count": 15,
   "metadata": {},
   "outputs": [
    {
     "data": {
      "text/plain": [
       "rel:means    1848113\n",
       "Name: predicate, dtype: int64"
      ]
     },
     "execution_count": 15,
     "metadata": {},
     "output_type": "execute_result"
    }
   ],
   "source": [
    "terms.predicate.value_counts()"
   ]
  },
  {
   "cell_type": "code",
   "execution_count": 17,
   "metadata": {},
   "outputs": [
    {
     "data": {
      "text/plain": [
       "rel:lexicalization    1810685\n",
       "Name: predicate, dtype: int64"
      ]
     },
     "execution_count": 17,
     "metadata": {},
     "output_type": "execute_result"
    }
   ],
   "source": [
    "synsets.predicate.value_counts()"
   ]
  },
  {
   "cell_type": "markdown",
   "metadata": {},
   "source": [
    "Not sure what weight means... "
   ]
  },
  {
   "cell_type": "code",
   "execution_count": 69,
   "metadata": {},
   "outputs": [
    {
     "data": {
      "text/html": [
       "<div>\n",
       "<style scoped>\n",
       "    .dataframe tbody tr th:only-of-type {\n",
       "        vertical-align: middle;\n",
       "    }\n",
       "\n",
       "    .dataframe tbody tr th {\n",
       "        vertical-align: top;\n",
       "    }\n",
       "\n",
       "    .dataframe thead th {\n",
       "        text-align: right;\n",
       "    }\n",
       "</style>\n",
       "<table border=\"1\" class=\"dataframe\">\n",
       "  <thead>\n",
       "    <tr style=\"text-align: right;\">\n",
       "      <th></th>\n",
       "      <th>subject</th>\n",
       "      <th>predicate</th>\n",
       "      <th>object</th>\n",
       "      <th>weight</th>\n",
       "    </tr>\n",
       "  </thead>\n",
       "  <tbody>\n",
       "    <tr>\n",
       "      <th>13</th>\n",
       "      <td>s/n9002814</td>\n",
       "      <td>rel:lexicalization</td>\n",
       "      <td>t/tha/รัสเซีย</td>\n",
       "      <td>0.703229</td>\n",
       "    </tr>\n",
       "    <tr>\n",
       "      <th>14</th>\n",
       "      <td>s/n9002814</td>\n",
       "      <td>rel:lexicalization</td>\n",
       "      <td>t/tur/Rusya Federasyonu</td>\n",
       "      <td>0.730033</td>\n",
       "    </tr>\n",
       "    <tr>\n",
       "      <th>15</th>\n",
       "      <td>s/n9002814</td>\n",
       "      <td>rel:lexicalization</td>\n",
       "      <td>t/arb/روسيا</td>\n",
       "      <td>0.763194</td>\n",
       "    </tr>\n",
       "    <tr>\n",
       "      <th>16</th>\n",
       "      <td>s/n9002814</td>\n",
       "      <td>rel:lexicalization</td>\n",
       "      <td>t/ara/روسيا</td>\n",
       "      <td>0.707933</td>\n",
       "    </tr>\n",
       "    <tr>\n",
       "      <th>17</th>\n",
       "      <td>s/n9002814</td>\n",
       "      <td>rel:lexicalization</td>\n",
       "      <td>t/vol/Rusän</td>\n",
       "      <td>0.763194</td>\n",
       "    </tr>\n",
       "    <tr>\n",
       "      <th>18</th>\n",
       "      <td>s/n9002814</td>\n",
       "      <td>rel:lexicalization</td>\n",
       "      <td>t/lfn/Rusia</td>\n",
       "      <td>0.763194</td>\n",
       "    </tr>\n",
       "    <tr>\n",
       "      <th>19</th>\n",
       "      <td>s/n9002814</td>\n",
       "      <td>rel:lexicalization</td>\n",
       "      <td>t/ind/Rusia</td>\n",
       "      <td>0.733253</td>\n",
       "    </tr>\n",
       "    <tr>\n",
       "      <th>20</th>\n",
       "      <td>s/n9002814</td>\n",
       "      <td>rel:lexicalization</td>\n",
       "      <td>t/pes/روسیه</td>\n",
       "      <td>0.763194</td>\n",
       "    </tr>\n",
       "    <tr>\n",
       "      <th>21</th>\n",
       "      <td>s/n9002814</td>\n",
       "      <td>rel:lexicalization</td>\n",
       "      <td>t/hun/Oroszország</td>\n",
       "      <td>0.735622</td>\n",
       "    </tr>\n",
       "    <tr>\n",
       "      <th>22</th>\n",
       "      <td>s/n9002814</td>\n",
       "      <td>rel:lexicalization</td>\n",
       "      <td>t/lit/Rusijos Federacija</td>\n",
       "      <td>0.730033</td>\n",
       "    </tr>\n",
       "    <tr>\n",
       "      <th>23</th>\n",
       "      <td>s/n9002814</td>\n",
       "      <td>rel:lexicalization</td>\n",
       "      <td>t/rus/Российская Федерация</td>\n",
       "      <td>0.864462</td>\n",
       "    </tr>\n",
       "    <tr>\n",
       "      <th>24</th>\n",
       "      <td>s/n9002814</td>\n",
       "      <td>rel:lexicalization</td>\n",
       "      <td>t/rus/Россия</td>\n",
       "      <td>0.809144</td>\n",
       "    </tr>\n",
       "    <tr>\n",
       "      <th>25</th>\n",
       "      <td>s/n9002814</td>\n",
       "      <td>rel:lexicalization</td>\n",
       "      <td>t/ina/Russia</td>\n",
       "      <td>0.736904</td>\n",
       "    </tr>\n",
       "    <tr>\n",
       "      <th>26</th>\n",
       "      <td>s/n9002814</td>\n",
       "      <td>rel:lexicalization</td>\n",
       "      <td>t/dan/Rusland</td>\n",
       "      <td>0.718382</td>\n",
       "    </tr>\n",
       "    <tr>\n",
       "      <th>27</th>\n",
       "      <td>s/n9002814</td>\n",
       "      <td>rel:lexicalization</td>\n",
       "      <td>t/mar/रशिया</td>\n",
       "      <td>0.736904</td>\n",
       "    </tr>\n",
       "    <tr>\n",
       "      <th>28</th>\n",
       "      <td>s/n9002814</td>\n",
       "      <td>rel:lexicalization</td>\n",
       "      <td>t/ell/Ρωσία</td>\n",
       "      <td>0.707049</td>\n",
       "    </tr>\n",
       "    <tr>\n",
       "      <th>29</th>\n",
       "      <td>s/n9002814</td>\n",
       "      <td>rel:lexicalization</td>\n",
       "      <td>t/ces/Rusko</td>\n",
       "      <td>0.705554</td>\n",
       "    </tr>\n",
       "    <tr>\n",
       "      <th>30</th>\n",
       "      <td>s/n9002814</td>\n",
       "      <td>rel:lexicalization</td>\n",
       "      <td>t/eus/Errusia</td>\n",
       "      <td>0.718382</td>\n",
       "    </tr>\n",
       "    <tr>\n",
       "      <th>31</th>\n",
       "      <td>s/n9002814</td>\n",
       "      <td>rel:lexicalization</td>\n",
       "      <td>t/fin/Venäjä</td>\n",
       "      <td>0.707531</td>\n",
       "    </tr>\n",
       "    <tr>\n",
       "      <th>32</th>\n",
       "      <td>s/n9002814</td>\n",
       "      <td>rel:lexicalization</td>\n",
       "      <td>t/cat/Rússia</td>\n",
       "      <td>0.730555</td>\n",
       "    </tr>\n",
       "  </tbody>\n",
       "</table>\n",
       "</div>"
      ],
      "text/plain": [
       "       subject           predicate                      object    weight\n",
       "13  s/n9002814  rel:lexicalization               t/tha/รัสเซีย  0.703229\n",
       "14  s/n9002814  rel:lexicalization     t/tur/Rusya Federasyonu  0.730033\n",
       "15  s/n9002814  rel:lexicalization                 t/arb/روسيا  0.763194\n",
       "16  s/n9002814  rel:lexicalization                 t/ara/روسيا  0.707933\n",
       "17  s/n9002814  rel:lexicalization                 t/vol/Rusän  0.763194\n",
       "18  s/n9002814  rel:lexicalization                 t/lfn/Rusia  0.763194\n",
       "19  s/n9002814  rel:lexicalization                 t/ind/Rusia  0.733253\n",
       "20  s/n9002814  rel:lexicalization                 t/pes/روسیه  0.763194\n",
       "21  s/n9002814  rel:lexicalization           t/hun/Oroszország  0.735622\n",
       "22  s/n9002814  rel:lexicalization    t/lit/Rusijos Federacija  0.730033\n",
       "23  s/n9002814  rel:lexicalization  t/rus/Российская Федерация  0.864462\n",
       "24  s/n9002814  rel:lexicalization                t/rus/Россия  0.809144\n",
       "25  s/n9002814  rel:lexicalization                t/ina/Russia  0.736904\n",
       "26  s/n9002814  rel:lexicalization               t/dan/Rusland  0.718382\n",
       "27  s/n9002814  rel:lexicalization                 t/mar/रशिया  0.736904\n",
       "28  s/n9002814  rel:lexicalization                 t/ell/Ρωσία  0.707049\n",
       "29  s/n9002814  rel:lexicalization                 t/ces/Rusko  0.705554\n",
       "30  s/n9002814  rel:lexicalization               t/eus/Errusia  0.718382\n",
       "31  s/n9002814  rel:lexicalization                t/fin/Venäjä  0.707531\n",
       "32  s/n9002814  rel:lexicalization                t/cat/Rússia  0.730555"
      ]
     },
     "execution_count": 69,
     "metadata": {},
     "output_type": "execute_result"
    }
   ],
   "source": [
    "synsets.head(20)"
   ]
  },
  {
   "cell_type": "code",
   "execution_count": 94,
   "metadata": {},
   "outputs": [],
   "source": [
    "def extract_language(x):\n",
    "    split = x.split('/')\n",
    "    lan = split[1]\n",
    "    return lan\n",
    "\n",
    "def extract_term(x):\n",
    "    split = x.split('/')\n",
    "    term = split[2]\n",
    "    return term\n",
    "\n",
    "def extract_synset(x):\n",
    "    split = x.split('/')\n",
    "    synset = split[1]\n",
    "    return synset"
   ]
  },
  {
   "cell_type": "code",
   "execution_count": 95,
   "metadata": {},
   "outputs": [],
   "source": [
    "terms = terms[terms.object.str.startswith('s/')]\n",
    "terms.loc[:, 'term'] = terms.subject.apply(extract_term)\n",
    "terms.loc[:, 'lan'] = terms.subject.apply(extract_language)\n",
    "terms.loc[:, 'synset'] = terms.object.apply(extract_synset)"
   ]
  },
  {
   "cell_type": "code",
   "execution_count": 100,
   "metadata": {},
   "outputs": [],
   "source": [
    "t = terms.drop(['subject', 'predicate', 'object'], axis=1)"
   ]
  },
  {
   "cell_type": "code",
   "execution_count": 115,
   "metadata": {},
   "outputs": [
    {
     "data": {
      "text/plain": [
       "20953      9007723\n",
       "1037000    9010300\n",
       "1037001    9007723\n",
       "1037002    9002630\n",
       "1037003    9008454\n",
       "1609121    9002814\n",
       "1609122    9007723\n",
       "1609128    9007723\n",
       "Name: synset, dtype: object"
      ]
     },
     "execution_count": 115,
     "metadata": {},
     "output_type": "execute_result"
    }
   ],
   "source": [
    "t[t.term == 'Russia'].synset.apply(lambda x: x.replace('n', ''))"
   ]
  },
  {
   "cell_type": "code",
   "execution_count": 112,
   "metadata": {},
   "outputs": [
    {
     "data": {
      "text/plain": [
       "['9025654', '9030093', '9025184', '9028783']"
      ]
     },
     "execution_count": 112,
     "metadata": {},
     "output_type": "execute_result"
    }
   ],
   "source": [
    "['9025654', '9030093', '9025184', '9028783']"
   ]
  },
  {
   "cell_type": "code",
   "execution_count": 116,
   "metadata": {},
   "outputs": [
    {
     "data": {
      "text/plain": [
       "20953      zsm\n",
       "1037000    eng\n",
       "1037001    eng\n",
       "1037002    eng\n",
       "1037003    eng\n",
       "1609121    ina\n",
       "1609122    ina\n",
       "1609128    ita\n",
       "Name: lan, dtype: object"
      ]
     },
     "execution_count": 116,
     "metadata": {},
     "output_type": "execute_result"
    }
   ],
   "source": [
    "t[t.term == 'Russia'].lan"
   ]
  },
  {
   "cell_type": "code",
   "execution_count": 168,
   "metadata": {},
   "outputs": [],
   "source": [
    "import os\n",
    "\n",
    "columns = ['synset', 'type', 'text']\n",
    "wns = pd.DataFrame(columns=columns)\n",
    "\n",
    "for lan in os.listdir('./wordnet/data/wns/'):\n",
    "    filename = f'./wordnet/data/wns/{lan}/wn-data-{lan}.tab'\n",
    "    if os.path.isfile(filename):\n",
    "        df = pd.read_csv(filename, delimiter='\\t', names=columns, index_col=False, skiprows=1)\n",
    "        wns = pd.concat([wns, df],axis=0, ignore_index=True)"
   ]
  },
  {
   "cell_type": "code",
   "execution_count": 183,
   "metadata": {},
   "outputs": [
    {
     "data": {
      "text/html": [
       "<div>\n",
       "<style scoped>\n",
       "    .dataframe tbody tr th:only-of-type {\n",
       "        vertical-align: middle;\n",
       "    }\n",
       "\n",
       "    .dataframe tbody tr th {\n",
       "        vertical-align: top;\n",
       "    }\n",
       "\n",
       "    .dataframe thead th {\n",
       "        text-align: right;\n",
       "    }\n",
       "</style>\n",
       "<table border=\"1\" class=\"dataframe\">\n",
       "  <thead>\n",
       "    <tr style=\"text-align: right;\">\n",
       "      <th></th>\n",
       "      <th>synset</th>\n",
       "      <th>type</th>\n",
       "      <th>text</th>\n",
       "      <th>lan</th>\n",
       "    </tr>\n",
       "  </thead>\n",
       "  <tbody>\n",
       "    <tr>\n",
       "      <th>0</th>\n",
       "      <td>00001740-n</td>\n",
       "      <td>fin:lemma</td>\n",
       "      <td>entiteetti</td>\n",
       "      <td>fin</td>\n",
       "    </tr>\n",
       "    <tr>\n",
       "      <th>1</th>\n",
       "      <td>00001740-n</td>\n",
       "      <td>fin:lemma</td>\n",
       "      <td>kokonaisuus</td>\n",
       "      <td>fin</td>\n",
       "    </tr>\n",
       "    <tr>\n",
       "      <th>2</th>\n",
       "      <td>00001930-n</td>\n",
       "      <td>fin:lemma</td>\n",
       "      <td>fyysinen entiteetti</td>\n",
       "      <td>fin</td>\n",
       "    </tr>\n",
       "    <tr>\n",
       "      <th>3</th>\n",
       "      <td>00002137-n</td>\n",
       "      <td>fin:lemma</td>\n",
       "      <td>abstrahointi</td>\n",
       "      <td>fin</td>\n",
       "    </tr>\n",
       "    <tr>\n",
       "      <th>4</th>\n",
       "      <td>00002137-n</td>\n",
       "      <td>fin:lemma</td>\n",
       "      <td>käsitteellistäminen</td>\n",
       "      <td>fin</td>\n",
       "    </tr>\n",
       "  </tbody>\n",
       "</table>\n",
       "</div>"
      ],
      "text/plain": [
       "       synset       type                 text  lan\n",
       "0  00001740-n  fin:lemma           entiteetti  fin\n",
       "1  00001740-n  fin:lemma          kokonaisuus  fin\n",
       "2  00001930-n  fin:lemma  fyysinen entiteetti  fin\n",
       "3  00002137-n  fin:lemma         abstrahointi  fin\n",
       "4  00002137-n  fin:lemma  käsitteellistäminen  fin"
      ]
     },
     "execution_count": 183,
     "metadata": {},
     "output_type": "execute_result"
    }
   ],
   "source": [
    "wns.head()"
   ]
  },
  {
   "cell_type": "code",
   "execution_count": 192,
   "metadata": {},
   "outputs": [],
   "source": [
    "def extract_language_2(x):\n",
    "    split = x.split(':')\n",
    "    lan = split[0]\n",
    "    return lan\n",
    "\n",
    "def extract_type(x):\n",
    "    split = x.split(':')\n",
    "    _type = split[1]\n",
    "    return _type"
   ]
  },
  {
   "cell_type": "code",
   "execution_count": 193,
   "metadata": {},
   "outputs": [],
   "source": [
    "wns['type'] = wns['type'].replace('lemma', 'fin:lemma')\n",
    "wns['lan'] = wns.type.apply(extract_language_2)\n",
    "wns['type'] = wns.type.apply(extract_type)"
   ]
  },
  {
   "cell_type": "code",
   "execution_count": 194,
   "metadata": {},
   "outputs": [],
   "source": [
    "import seaborn as sns"
   ]
  },
  {
   "cell_type": "code",
   "execution_count": 195,
   "metadata": {},
   "outputs": [
    {
     "data": {
      "text/plain": [
       "<AxesSubplot:ylabel='type'>"
      ]
     },
     "execution_count": 195,
     "metadata": {},
     "output_type": "execute_result"
    },
    {
     "data": {
      "image/png": "[encoded data removed]",
      "text/plain": [
       "<Figure size 432x288 with 1 Axes>"
      ]
     },
     "metadata": {
      "needs_background": "light"
     },
     "output_type": "display_data"
    }
   ],
   "source": [
    "sns.barplot(x=wns.type.value_counts().index, y=wns.type.value_counts())"
   ]
  },
  {
   "cell_type": "code",
   "execution_count": 197,
   "metadata": {},
   "outputs": [
    {
     "data": {
      "text/plain": [
       "fin    567164\n",
       "jpn    342037\n",
       "eng    183968\n",
       "ron    143393\n",
       "fra    102671\n",
       "slv     69405\n",
       "ita     67441\n",
       "nld     60259\n",
       "arb     54975\n",
       "pol     52380\n",
       "hrv     47900\n",
       "slk     44029\n",
       "ell     42251\n",
       "bul     28382\n",
       "als     17626\n",
       "isl     15462\n",
       "heb     13481\n",
       "swe      6989\n",
       "Name: lan, dtype: int64"
      ]
     },
     "execution_count": 197,
     "metadata": {},
     "output_type": "execute_result"
    }
   ],
   "source": [
    "wns.lan.value_counts()"
   ]
  },
  {
   "cell_type": "code",
   "execution_count": 199,
   "metadata": {},
   "outputs": [
    {
     "data": {
      "text/html": [
       "<div>\n",
       "<style scoped>\n",
       "    .dataframe tbody tr th:only-of-type {\n",
       "        vertical-align: middle;\n",
       "    }\n",
       "\n",
       "    .dataframe tbody tr th {\n",
       "        vertical-align: top;\n",
       "    }\n",
       "\n",
       "    .dataframe thead th {\n",
       "        text-align: right;\n",
       "    }\n",
       "</style>\n",
       "<table border=\"1\" class=\"dataframe\">\n",
       "  <thead>\n",
       "    <tr style=\"text-align: right;\">\n",
       "      <th></th>\n",
       "      <th>synset</th>\n",
       "      <th>type</th>\n",
       "      <th>text</th>\n",
       "      <th>lan</th>\n",
       "    </tr>\n",
       "  </thead>\n",
       "  <tbody>\n",
       "    <tr>\n",
       "      <th>256500</th>\n",
       "      <td>00003553-n</td>\n",
       "      <td>exe</td>\n",
       "      <td>0</td>\n",
       "      <td>als</td>\n",
       "    </tr>\n",
       "    <tr>\n",
       "      <th>256501</th>\n",
       "      <td>00003553-n</td>\n",
       "      <td>exe</td>\n",
       "      <td>1</td>\n",
       "      <td>als</td>\n",
       "    </tr>\n",
       "    <tr>\n",
       "      <th>256507</th>\n",
       "      <td>00006269-n</td>\n",
       "      <td>exe</td>\n",
       "      <td>0</td>\n",
       "      <td>als</td>\n",
       "    </tr>\n",
       "    <tr>\n",
       "      <th>256523</th>\n",
       "      <td>00007846-n</td>\n",
       "      <td>exe</td>\n",
       "      <td>0</td>\n",
       "      <td>als</td>\n",
       "    </tr>\n",
       "    <tr>\n",
       "      <th>256528</th>\n",
       "      <td>00007739-v</td>\n",
       "      <td>exe</td>\n",
       "      <td>0</td>\n",
       "      <td>als</td>\n",
       "    </tr>\n",
       "  </tbody>\n",
       "</table>\n",
       "</div>"
      ],
      "text/plain": [
       "            synset type text  lan\n",
       "256500  00003553-n  exe    0  als\n",
       "256501  00003553-n  exe    1  als\n",
       "256507  00006269-n  exe    0  als\n",
       "256523  00007846-n  exe    0  als\n",
       "256528  00007739-v  exe    0  als"
      ]
     },
     "execution_count": 199,
     "metadata": {},
     "output_type": "execute_result"
    }
   ],
   "source": [
    "wns[wns.type == 'exe'].tex"
   ]
  },
  {
   "cell_type": "code",
   "execution_count": null,
   "metadata": {},
   "outputs": [],
   "source": []
  }
 ],
 "metadata": {
  "kernelspec": {
   "display_name": "Python 3",
   "language": "python",
   "name": "python3"
  },
  "language_info": {
   "codemirror_mode": {
    "name": "ipython",
    "version": 3
   },
   "file_extension": ".py",
   "mimetype": "text/x-python",
   "name": "python",
   "nbconvert_exporter": "python",
   "pygments_lexer": "ipython3",
   "version": "3.8.2"
  }
 },
 "nbformat": 4,
 "nbformat_minor": 4
}
