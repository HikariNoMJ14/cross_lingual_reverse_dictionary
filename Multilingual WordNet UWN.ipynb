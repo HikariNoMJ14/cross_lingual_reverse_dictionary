{
 "cells": [
  {
   "cell_type": "markdown",
   "metadata": {},
   "source": [
    "README\n",
    "\n",
    "UWN 2010-10\n",
    "Gerard de Melo\n",
    "http://www.mpi-inf.mpg.de/yago-naga/uwn/\n",
    "\n",
    "\n",
    "== DESCRIPTION ==\n",
    "\n",
    "UWN is an automatically constructed multilingual lexical knowledge base\n",
    "based on the structure of Princeton WordNet. Please see the web site above\n",
    "for more information.\n",
    "\n",
    "UWN is best used in conjunction with the original WordNet created at\n",
    "at Princeton University. \n",
    "http://wordnet.princeton.edu\n",
    "\n",
    "\n",
    "== DATA FORMAT ==\n",
    "\n",
    "The gzip-compressed TSV file is best decompressed on the fly\n",
    "while reading for best performance. Each line contains subject, predicate,\n",
    "object, and weight, separated by tabs.\n",
    "Words and other terms are listed as \"t/<iso-639-3-language-code>/<string>\", e.g.\n",
    "\"t/eng/house\" for the English term \"house\".\n",
    "Predicates include \"rel:means\" for the relationship between a term and its meanings.\n",
    "WordNet senses are given as \"s/<wordnet-pos-tag><wordnet-3.0-synset-offset>\"\n",
    "(e.g. \"s/n1740\" for WordNet 3.0's entity synset).\n",
    "\n",
    "\n",
    "== CREDITS AND LICENSE ==\n",
    "\n",
    "Gerard de Melo\n",
    "http://icsi.berkeley.edy/~demelo/\n",
    "\n",
    "For academic use, please cite:\n",
    "Gerard de Melo and Gerhard Weikum (2009). Towards a Universal Wordnet by Learning from Combined Evidence.\n",
    "In: Proc. 18th ACM Conference on Information and Knowledge Management (CIKM 2009),\n",
    "Hong Kong, China. ACM, New York, USA.\n",
    "\n",
    "License: CC BY-NC-SA 3.0\n",
    "http://creativecommons.org/licenses/by-nc-sa/3.0/"
   ]
  },
  {
   "cell_type": "code",
   "execution_count": 1,
   "metadata": {},
   "outputs": [],
   "source": [
    "import pandas as pd\n",
    "\n",
    "df = pd.read_csv('./wordnet/data/uwn-dump_201012.tsv', delimiter='\\t', header=None, names=['subject', 'predicate', 'object', 'weight'])"
   ]
  },
  {
   "cell_type": "code",
   "execution_count": 2,
   "metadata": {},
   "outputs": [
    {
     "data": {
      "text/html": [
       "<div>\n",
       "<style scoped>\n",
       "    .dataframe tbody tr th:only-of-type {\n",
       "        vertical-align: middle;\n",
       "    }\n",
       "\n",
       "    .dataframe tbody tr th {\n",
       "        vertical-align: top;\n",
       "    }\n",
       "\n",
       "    .dataframe thead th {\n",
       "        text-align: right;\n",
       "    }\n",
       "</style>\n",
       "<table border=\"1\" class=\"dataframe\">\n",
       "  <thead>\n",
       "    <tr style=\"text-align: right;\">\n",
       "      <th></th>\n",
       "      <th>subject</th>\n",
       "      <th>predicate</th>\n",
       "      <th>object</th>\n",
       "      <th>weight</th>\n",
       "    </tr>\n",
       "  </thead>\n",
       "  <tbody>\n",
       "    <tr>\n",
       "      <th>0</th>\n",
       "      <td>t/xmf/ბულგარულ</td>\n",
       "      <td>rel:means</td>\n",
       "      <td>language/bul</td>\n",
       "      <td>1.187343</td>\n",
       "    </tr>\n",
       "    <tr>\n",
       "      <th>1</th>\n",
       "      <td>t/xmf/ბულგარულ</td>\n",
       "      <td>rel:means</td>\n",
       "      <td>s/n9695620</td>\n",
       "      <td>1.224455</td>\n",
       "    </tr>\n",
       "    <tr>\n",
       "      <th>2</th>\n",
       "      <td>t/xmf/ინგლისურ</td>\n",
       "      <td>rel:means</td>\n",
       "      <td>s/n6155432</td>\n",
       "      <td>0.938639</td>\n",
       "    </tr>\n",
       "    <tr>\n",
       "      <th>3</th>\n",
       "      <td>t/xmf/ინგლისურ</td>\n",
       "      <td>rel:means</td>\n",
       "      <td>s/n6947032</td>\n",
       "      <td>1.220780</td>\n",
       "    </tr>\n",
       "    <tr>\n",
       "      <th>4</th>\n",
       "      <td>t/xmf/ფრანგულ</td>\n",
       "      <td>rel:means</td>\n",
       "      <td>language/fra</td>\n",
       "      <td>1.337511</td>\n",
       "    </tr>\n",
       "  </tbody>\n",
       "</table>\n",
       "</div>"
      ],
      "text/plain": [
       "          subject  predicate        object    weight\n",
       "0  t/xmf/ბულგარულ  rel:means  language/bul  1.187343\n",
       "1  t/xmf/ბულგარულ  rel:means    s/n9695620  1.224455\n",
       "2  t/xmf/ინგლისურ  rel:means    s/n6155432  0.938639\n",
       "3  t/xmf/ინგლისურ  rel:means    s/n6947032  1.220780\n",
       "4   t/xmf/ფრანგულ  rel:means  language/fra  1.337511"
      ]
     },
     "execution_count": 2,
     "metadata": {},
     "output_type": "execute_result"
    }
   ],
   "source": [
    "df.head()"
   ]
  },
  {
   "cell_type": "code",
   "execution_count": 3,
   "metadata": {},
   "outputs": [],
   "source": [
    "terms = df[df.subject.str.startswith('t/')]"
   ]
  },
  {
   "cell_type": "code",
   "execution_count": 4,
   "metadata": {},
   "outputs": [],
   "source": [
    "synsets = df[df.subject.str.startswith('s/')]"
   ]
  },
  {
   "cell_type": "code",
   "execution_count": 5,
   "metadata": {},
   "outputs": [
    {
     "data": {
      "text/plain": [
       "rel:means    1848113\n",
       "Name: predicate, dtype: int64"
      ]
     },
     "execution_count": 5,
     "metadata": {},
     "output_type": "execute_result"
    }
   ],
   "source": [
    "terms.predicate.value_counts()"
   ]
  },
  {
   "cell_type": "code",
   "execution_count": 6,
   "metadata": {},
   "outputs": [
    {
     "data": {
      "text/plain": [
       "rel:lexicalization    1810685\n",
       "Name: predicate, dtype: int64"
      ]
     },
     "execution_count": 6,
     "metadata": {},
     "output_type": "execute_result"
    }
   ],
   "source": [
    "synsets.predicate.value_counts()"
   ]
  },
  {
   "cell_type": "markdown",
   "metadata": {},
   "source": [
    "Not sure what weight means... "
   ]
  },
  {
   "cell_type": "code",
   "execution_count": 7,
   "metadata": {},
   "outputs": [
    {
     "data": {
      "text/html": [
       "<div>\n",
       "<style scoped>\n",
       "    .dataframe tbody tr th:only-of-type {\n",
       "        vertical-align: middle;\n",
       "    }\n",
       "\n",
       "    .dataframe tbody tr th {\n",
       "        vertical-align: top;\n",
       "    }\n",
       "\n",
       "    .dataframe thead th {\n",
       "        text-align: right;\n",
       "    }\n",
       "</style>\n",
       "<table border=\"1\" class=\"dataframe\">\n",
       "  <thead>\n",
       "    <tr style=\"text-align: right;\">\n",
       "      <th></th>\n",
       "      <th>subject</th>\n",
       "      <th>predicate</th>\n",
       "      <th>object</th>\n",
       "      <th>weight</th>\n",
       "    </tr>\n",
       "  </thead>\n",
       "  <tbody>\n",
       "    <tr>\n",
       "      <th>13</th>\n",
       "      <td>s/n9002814</td>\n",
       "      <td>rel:lexicalization</td>\n",
       "      <td>t/tha/รัสเซีย</td>\n",
       "      <td>0.703229</td>\n",
       "    </tr>\n",
       "    <tr>\n",
       "      <th>14</th>\n",
       "      <td>s/n9002814</td>\n",
       "      <td>rel:lexicalization</td>\n",
       "      <td>t/tur/Rusya Federasyonu</td>\n",
       "      <td>0.730033</td>\n",
       "    </tr>\n",
       "    <tr>\n",
       "      <th>15</th>\n",
       "      <td>s/n9002814</td>\n",
       "      <td>rel:lexicalization</td>\n",
       "      <td>t/arb/روسيا</td>\n",
       "      <td>0.763194</td>\n",
       "    </tr>\n",
       "    <tr>\n",
       "      <th>16</th>\n",
       "      <td>s/n9002814</td>\n",
       "      <td>rel:lexicalization</td>\n",
       "      <td>t/ara/روسيا</td>\n",
       "      <td>0.707933</td>\n",
       "    </tr>\n",
       "    <tr>\n",
       "      <th>17</th>\n",
       "      <td>s/n9002814</td>\n",
       "      <td>rel:lexicalization</td>\n",
       "      <td>t/vol/Rusän</td>\n",
       "      <td>0.763194</td>\n",
       "    </tr>\n",
       "    <tr>\n",
       "      <th>18</th>\n",
       "      <td>s/n9002814</td>\n",
       "      <td>rel:lexicalization</td>\n",
       "      <td>t/lfn/Rusia</td>\n",
       "      <td>0.763194</td>\n",
       "    </tr>\n",
       "    <tr>\n",
       "      <th>19</th>\n",
       "      <td>s/n9002814</td>\n",
       "      <td>rel:lexicalization</td>\n",
       "      <td>t/ind/Rusia</td>\n",
       "      <td>0.733253</td>\n",
       "    </tr>\n",
       "    <tr>\n",
       "      <th>20</th>\n",
       "      <td>s/n9002814</td>\n",
       "      <td>rel:lexicalization</td>\n",
       "      <td>t/pes/روسیه</td>\n",
       "      <td>0.763194</td>\n",
       "    </tr>\n",
       "    <tr>\n",
       "      <th>21</th>\n",
       "      <td>s/n9002814</td>\n",
       "      <td>rel:lexicalization</td>\n",
       "      <td>t/hun/Oroszország</td>\n",
       "      <td>0.735622</td>\n",
       "    </tr>\n",
       "    <tr>\n",
       "      <th>22</th>\n",
       "      <td>s/n9002814</td>\n",
       "      <td>rel:lexicalization</td>\n",
       "      <td>t/lit/Rusijos Federacija</td>\n",
       "      <td>0.730033</td>\n",
       "    </tr>\n",
       "    <tr>\n",
       "      <th>23</th>\n",
       "      <td>s/n9002814</td>\n",
       "      <td>rel:lexicalization</td>\n",
       "      <td>t/rus/Российская Федерация</td>\n",
       "      <td>0.864462</td>\n",
       "    </tr>\n",
       "    <tr>\n",
       "      <th>24</th>\n",
       "      <td>s/n9002814</td>\n",
       "      <td>rel:lexicalization</td>\n",
       "      <td>t/rus/Россия</td>\n",
       "      <td>0.809144</td>\n",
       "    </tr>\n",
       "    <tr>\n",
       "      <th>25</th>\n",
       "      <td>s/n9002814</td>\n",
       "      <td>rel:lexicalization</td>\n",
       "      <td>t/ina/Russia</td>\n",
       "      <td>0.736904</td>\n",
       "    </tr>\n",
       "    <tr>\n",
       "      <th>26</th>\n",
       "      <td>s/n9002814</td>\n",
       "      <td>rel:lexicalization</td>\n",
       "      <td>t/dan/Rusland</td>\n",
       "      <td>0.718382</td>\n",
       "    </tr>\n",
       "    <tr>\n",
       "      <th>27</th>\n",
       "      <td>s/n9002814</td>\n",
       "      <td>rel:lexicalization</td>\n",
       "      <td>t/mar/रशिया</td>\n",
       "      <td>0.736904</td>\n",
       "    </tr>\n",
       "    <tr>\n",
       "      <th>28</th>\n",
       "      <td>s/n9002814</td>\n",
       "      <td>rel:lexicalization</td>\n",
       "      <td>t/ell/Ρωσία</td>\n",
       "      <td>0.707049</td>\n",
       "    </tr>\n",
       "    <tr>\n",
       "      <th>29</th>\n",
       "      <td>s/n9002814</td>\n",
       "      <td>rel:lexicalization</td>\n",
       "      <td>t/ces/Rusko</td>\n",
       "      <td>0.705554</td>\n",
       "    </tr>\n",
       "    <tr>\n",
       "      <th>30</th>\n",
       "      <td>s/n9002814</td>\n",
       "      <td>rel:lexicalization</td>\n",
       "      <td>t/eus/Errusia</td>\n",
       "      <td>0.718382</td>\n",
       "    </tr>\n",
       "    <tr>\n",
       "      <th>31</th>\n",
       "      <td>s/n9002814</td>\n",
       "      <td>rel:lexicalization</td>\n",
       "      <td>t/fin/Venäjä</td>\n",
       "      <td>0.707531</td>\n",
       "    </tr>\n",
       "    <tr>\n",
       "      <th>32</th>\n",
       "      <td>s/n9002814</td>\n",
       "      <td>rel:lexicalization</td>\n",
       "      <td>t/cat/Rússia</td>\n",
       "      <td>0.730555</td>\n",
       "    </tr>\n",
       "  </tbody>\n",
       "</table>\n",
       "</div>"
      ],
      "text/plain": [
       "       subject           predicate                      object    weight\n",
       "13  s/n9002814  rel:lexicalization               t/tha/รัสเซีย  0.703229\n",
       "14  s/n9002814  rel:lexicalization     t/tur/Rusya Federasyonu  0.730033\n",
       "15  s/n9002814  rel:lexicalization                 t/arb/روسيا  0.763194\n",
       "16  s/n9002814  rel:lexicalization                 t/ara/روسيا  0.707933\n",
       "17  s/n9002814  rel:lexicalization                 t/vol/Rusän  0.763194\n",
       "18  s/n9002814  rel:lexicalization                 t/lfn/Rusia  0.763194\n",
       "19  s/n9002814  rel:lexicalization                 t/ind/Rusia  0.733253\n",
       "20  s/n9002814  rel:lexicalization                 t/pes/روسیه  0.763194\n",
       "21  s/n9002814  rel:lexicalization           t/hun/Oroszország  0.735622\n",
       "22  s/n9002814  rel:lexicalization    t/lit/Rusijos Federacija  0.730033\n",
       "23  s/n9002814  rel:lexicalization  t/rus/Российская Федерация  0.864462\n",
       "24  s/n9002814  rel:lexicalization                t/rus/Россия  0.809144\n",
       "25  s/n9002814  rel:lexicalization                t/ina/Russia  0.736904\n",
       "26  s/n9002814  rel:lexicalization               t/dan/Rusland  0.718382\n",
       "27  s/n9002814  rel:lexicalization                 t/mar/रशिया  0.736904\n",
       "28  s/n9002814  rel:lexicalization                 t/ell/Ρωσία  0.707049\n",
       "29  s/n9002814  rel:lexicalization                 t/ces/Rusko  0.705554\n",
       "30  s/n9002814  rel:lexicalization               t/eus/Errusia  0.718382\n",
       "31  s/n9002814  rel:lexicalization                t/fin/Venäjä  0.707531\n",
       "32  s/n9002814  rel:lexicalization                t/cat/Rússia  0.730555"
      ]
     },
     "execution_count": 7,
     "metadata": {},
     "output_type": "execute_result"
    }
   ],
   "source": [
    "synsets.head(20)"
   ]
  },
  {
   "cell_type": "code",
   "execution_count": 8,
   "metadata": {},
   "outputs": [],
   "source": [
    "def extract_language(x):\n",
    "    split = x.split('/')\n",
    "    lan = split[1]\n",
    "    return lan\n",
    "\n",
    "def extract_term(x):\n",
    "    split = x.split('/')\n",
    "    term = split[2]\n",
    "    return term\n",
    "\n",
    "def extract_synset(x):\n",
    "    split = x.split('/')\n",
    "    synset = split[1][1:]\n",
    "    return synset\n",
    "\n",
    "def extract_pos(x):\n",
    "    split = x.split('/')\n",
    "    pos = split[1][0]\n",
    "    return pos"
   ]
  },
  {
   "cell_type": "code",
   "execution_count": 9,
   "metadata": {},
   "outputs": [],
   "source": [
    "terms = terms[terms.object.str.startswith('s/')]\n",
    "terms.loc[:, 'term'] = terms.subject.apply(extract_term)\n",
    "terms.loc[:, 'lan'] = terms.subject.apply(extract_language)\n",
    "terms.loc[:, 'synset'] = terms.object.apply(extract_synset)\n",
    "terms.loc[:, 'pos'] = terms.object.apply(extract_pos)"
   ]
  },
  {
   "cell_type": "code",
   "execution_count": 10,
   "metadata": {},
   "outputs": [],
   "source": [
    "uwn_terms = terms.drop(['subject', 'predicate', 'object'], axis=1)"
   ]
  },
  {
   "cell_type": "code",
   "execution_count": 11,
   "metadata": {},
   "outputs": [
    {
     "name": "stderr",
     "output_type": "stream",
     "text": [
      "/home/manu/PycharmProjects/cross_lingual_reverse_dictionary/venv/lib/python3.8/site-packages/IPython/core/interactiveshell.py:3146: DtypeWarning: Columns (2) have mixed types.Specify dtype option on import or set low_memory=False.\n",
      "  has_raised = await self.run_ast_nodes(code_ast.body, cell_name,\n"
     ]
    }
   ],
   "source": [
    "import os\n",
    "\n",
    "columns = ['synset', 'type', 'term']\n",
    "wns = pd.DataFrame(columns=columns)\n",
    "\n",
    "for lan in os.listdir('./wordnet/data/wns/'):\n",
    "    filename = f'./wordnet/data/wns/{lan}/wn-data-{lan}.tab'\n",
    "    if os.path.isfile(filename):\n",
    "        df = pd.read_csv(filename, delimiter='\\t', names=columns, index_col=False, skiprows=1)\n",
    "        wns = pd.concat([wns, df],axis=0, ignore_index=True)"
   ]
  },
  {
   "cell_type": "code",
   "execution_count": 12,
   "metadata": {},
   "outputs": [
    {
     "data": {
      "text/html": [
       "<div>\n",
       "<style scoped>\n",
       "    .dataframe tbody tr th:only-of-type {\n",
       "        vertical-align: middle;\n",
       "    }\n",
       "\n",
       "    .dataframe tbody tr th {\n",
       "        vertical-align: top;\n",
       "    }\n",
       "\n",
       "    .dataframe thead th {\n",
       "        text-align: right;\n",
       "    }\n",
       "</style>\n",
       "<table border=\"1\" class=\"dataframe\">\n",
       "  <thead>\n",
       "    <tr style=\"text-align: right;\">\n",
       "      <th></th>\n",
       "      <th>synset</th>\n",
       "      <th>type</th>\n",
       "      <th>term</th>\n",
       "    </tr>\n",
       "  </thead>\n",
       "  <tbody>\n",
       "    <tr>\n",
       "      <th>0</th>\n",
       "      <td>00001740-n</td>\n",
       "      <td>lemma</td>\n",
       "      <td>entiteetti</td>\n",
       "    </tr>\n",
       "    <tr>\n",
       "      <th>1</th>\n",
       "      <td>00001740-n</td>\n",
       "      <td>lemma</td>\n",
       "      <td>kokonaisuus</td>\n",
       "    </tr>\n",
       "    <tr>\n",
       "      <th>2</th>\n",
       "      <td>00001930-n</td>\n",
       "      <td>lemma</td>\n",
       "      <td>fyysinen entiteetti</td>\n",
       "    </tr>\n",
       "    <tr>\n",
       "      <th>3</th>\n",
       "      <td>00002137-n</td>\n",
       "      <td>lemma</td>\n",
       "      <td>abstrahointi</td>\n",
       "    </tr>\n",
       "    <tr>\n",
       "      <th>4</th>\n",
       "      <td>00002137-n</td>\n",
       "      <td>lemma</td>\n",
       "      <td>käsitteellistäminen</td>\n",
       "    </tr>\n",
       "  </tbody>\n",
       "</table>\n",
       "</div>"
      ],
      "text/plain": [
       "       synset   type                 term\n",
       "0  00001740-n  lemma           entiteetti\n",
       "1  00001740-n  lemma          kokonaisuus\n",
       "2  00001930-n  lemma  fyysinen entiteetti\n",
       "3  00002137-n  lemma         abstrahointi\n",
       "4  00002137-n  lemma  käsitteellistäminen"
      ]
     },
     "execution_count": 12,
     "metadata": {},
     "output_type": "execute_result"
    }
   ],
   "source": [
    "wns.head()"
   ]
  },
  {
   "cell_type": "code",
   "execution_count": 13,
   "metadata": {},
   "outputs": [],
   "source": [
    "def extract_language_2(x):\n",
    "    split = x.split(':')\n",
    "    lan = split[0]\n",
    "    return lan\n",
    "\n",
    "def extract_type(x):\n",
    "    split = x.split(':')\n",
    "    _type = split[1]\n",
    "    return _type"
   ]
  },
  {
   "cell_type": "code",
   "execution_count": 14,
   "metadata": {},
   "outputs": [],
   "source": [
    "wns['type'] = wns['type'].replace('lemma', 'fin:lemma')\n",
    "\n",
    "wns['lan'] = wns.type.apply(extract_language_2)\n",
    "wns['type'] = wns.type.apply(extract_type)\n",
    "wns['pos'] = wns['synset'].apply(lambda x: x[-1])\n",
    "wns['synset'] = wns['synset'].apply(lambda x: x[1:-2])"
   ]
  },
  {
   "cell_type": "code",
   "execution_count": 15,
   "metadata": {},
   "outputs": [],
   "source": [
    "import seaborn as sns"
   ]
  },
  {
   "cell_type": "code",
   "execution_count": 16,
   "metadata": {},
   "outputs": [
    {
     "data": {
      "text/plain": [
       "<AxesSubplot:ylabel='type'>"
      ]
     },
     "execution_count": 16,
     "metadata": {},
     "output_type": "execute_result"
    },
    {
     "data": {
      "image/png": "[encoded data removed]",
      "text/plain": [
       "<Figure size 432x288 with 1 Axes>"
      ]
     },
     "metadata": {
      "needs_background": "light"
     },
     "output_type": "display_data"
    }
   ],
   "source": [
    "sns.barplot(x=wns.type.value_counts().index, y=wns.type.value_counts())"
   ]
  },
  {
   "cell_type": "code",
   "execution_count": 17,
   "metadata": {},
   "outputs": [
    {
     "data": {
      "text/plain": [
       "fin    567164\n",
       "jpn    342037\n",
       "eng    183968\n",
       "ron    143393\n",
       "fra    102671\n",
       "slv     69405\n",
       "ita     67441\n",
       "nld     60259\n",
       "arb     54975\n",
       "pol     52380\n",
       "hrv     47900\n",
       "slk     44029\n",
       "ell     42251\n",
       "bul     28382\n",
       "als     17626\n",
       "isl     15462\n",
       "heb     13481\n",
       "swe      6989\n",
       "Name: lan, dtype: int64"
      ]
     },
     "execution_count": 17,
     "metadata": {},
     "output_type": "execute_result"
    }
   ],
   "source": [
    "wns.lan.value_counts()"
   ]
  },
  {
   "cell_type": "code",
   "execution_count": 18,
   "metadata": {},
   "outputs": [
    {
     "data": {
      "text/plain": [
       "256500     0\n",
       "256501     1\n",
       "256507     0\n",
       "256523     0\n",
       "256528     0\n",
       "          ..\n",
       "1859801    1\n",
       "1859802    2\n",
       "1859810    0\n",
       "1859811    1\n",
       "1859812    2\n",
       "Name: term, Length: 119773, dtype: object"
      ]
     },
     "execution_count": 18,
     "metadata": {},
     "output_type": "execute_result"
    }
   ],
   "source": [
    "wns[wns.type == 'exe'].term"
   ]
  },
  {
   "cell_type": "code",
   "execution_count": 19,
   "metadata": {},
   "outputs": [],
   "source": [
    "from nltk.corpus import wordnet as wn"
   ]
  },
  {
   "cell_type": "code",
   "execution_count": 20,
   "metadata": {},
   "outputs": [
    {
     "data": {
      "text/plain": [
       "[Synset('soviet_union.n.01'),\n",
       " Synset('soviet_russia.n.01'),\n",
       " Synset('russia.n.03'),\n",
       " Synset('russia.n.04')]"
      ]
     },
     "execution_count": 20,
     "metadata": {},
     "output_type": "execute_result"
    }
   ],
   "source": [
    "wn.synsets('Russia')"
   ]
  },
  {
   "cell_type": "code",
   "execution_count": 21,
   "metadata": {},
   "outputs": [
    {
     "data": {
      "text/html": [
       "<div>\n",
       "<style scoped>\n",
       "    .dataframe tbody tr th:only-of-type {\n",
       "        vertical-align: middle;\n",
       "    }\n",
       "\n",
       "    .dataframe tbody tr th {\n",
       "        vertical-align: top;\n",
       "    }\n",
       "\n",
       "    .dataframe thead th {\n",
       "        text-align: right;\n",
       "    }\n",
       "</style>\n",
       "<table border=\"1\" class=\"dataframe\">\n",
       "  <thead>\n",
       "    <tr style=\"text-align: right;\">\n",
       "      <th></th>\n",
       "      <th>synset</th>\n",
       "      <th>type</th>\n",
       "      <th>term</th>\n",
       "      <th>lan</th>\n",
       "      <th>pos</th>\n",
       "    </tr>\n",
       "  </thead>\n",
       "  <tbody>\n",
       "    <tr>\n",
       "      <th>412663</th>\n",
       "      <td>9003284</td>\n",
       "      <td>lemma</td>\n",
       "      <td>Russia</td>\n",
       "      <td>ita</td>\n",
       "      <td>n</td>\n",
       "    </tr>\n",
       "    <tr>\n",
       "      <th>1132822</th>\n",
       "      <td>9002814</td>\n",
       "      <td>lemma</td>\n",
       "      <td>Russia</td>\n",
       "      <td>fin</td>\n",
       "      <td>n</td>\n",
       "    </tr>\n",
       "    <tr>\n",
       "      <th>1132824</th>\n",
       "      <td>9003284</td>\n",
       "      <td>lemma</td>\n",
       "      <td>Russia</td>\n",
       "      <td>fin</td>\n",
       "      <td>n</td>\n",
       "    </tr>\n",
       "    <tr>\n",
       "      <th>1132844</th>\n",
       "      <td>9006413</td>\n",
       "      <td>lemma</td>\n",
       "      <td>Russia</td>\n",
       "      <td>fin</td>\n",
       "      <td>n</td>\n",
       "    </tr>\n",
       "    <tr>\n",
       "      <th>1132849</th>\n",
       "      <td>9007723</td>\n",
       "      <td>lemma</td>\n",
       "      <td>Russia</td>\n",
       "      <td>fin</td>\n",
       "      <td>n</td>\n",
       "    </tr>\n",
       "  </tbody>\n",
       "</table>\n",
       "</div>"
      ],
      "text/plain": [
       "          synset   type    term  lan pos\n",
       "412663   9003284  lemma  Russia  ita   n\n",
       "1132822  9002814  lemma  Russia  fin   n\n",
       "1132824  9003284  lemma  Russia  fin   n\n",
       "1132844  9006413  lemma  Russia  fin   n\n",
       "1132849  9007723  lemma  Russia  fin   n"
      ]
     },
     "execution_count": 21,
     "metadata": {},
     "output_type": "execute_result"
    }
   ],
   "source": [
    "wns[wns.term == 'Russia'].head()"
   ]
  },
  {
   "cell_type": "code",
   "execution_count": 62,
   "metadata": {},
   "outputs": [
    {
     "ename": "TypeError",
     "evalue": "Cannot perform 'rand_' with a dtyped [object] array and scalar of type [bool]",
     "output_type": "error",
     "traceback": [
      "\u001b[0;31m---------------------------------------------------------------------------\u001b[0m",
      "\u001b[0;31mTypeError\u001b[0m                                 Traceback (most recent call last)",
      "\u001b[0;32m~/PycharmProjects/cross_lingual_reverse_dictionary/venv/lib/python3.8/site-packages/pandas/core/ops/array_ops.py\u001b[0m in \u001b[0;36mna_logical_op\u001b[0;34m(x, y, op)\u001b[0m\n\u001b[1;32m    265\u001b[0m         \u001b[0;31m#  (xint or xbool) and (yint or bool)\u001b[0m\u001b[0;34m\u001b[0m\u001b[0;34m\u001b[0m\u001b[0;34m\u001b[0m\u001b[0m\n\u001b[0;32m--> 266\u001b[0;31m         \u001b[0mresult\u001b[0m \u001b[0;34m=\u001b[0m \u001b[0mop\u001b[0m\u001b[0;34m(\u001b[0m\u001b[0mx\u001b[0m\u001b[0;34m,\u001b[0m \u001b[0my\u001b[0m\u001b[0;34m)\u001b[0m\u001b[0;34m\u001b[0m\u001b[0;34m\u001b[0m\u001b[0m\n\u001b[0m\u001b[1;32m    267\u001b[0m     \u001b[0;32mexcept\u001b[0m \u001b[0mTypeError\u001b[0m\u001b[0;34m:\u001b[0m\u001b[0;34m\u001b[0m\u001b[0;34m\u001b[0m\u001b[0m\n",
      "\u001b[0;32m~/PycharmProjects/cross_lingual_reverse_dictionary/venv/lib/python3.8/site-packages/pandas/core/ops/roperator.py\u001b[0m in \u001b[0;36mrand_\u001b[0;34m(left, right)\u001b[0m\n\u001b[1;32m     51\u001b[0m \u001b[0;32mdef\u001b[0m \u001b[0mrand_\u001b[0m\u001b[0;34m(\u001b[0m\u001b[0mleft\u001b[0m\u001b[0;34m,\u001b[0m \u001b[0mright\u001b[0m\u001b[0;34m)\u001b[0m\u001b[0;34m:\u001b[0m\u001b[0;34m\u001b[0m\u001b[0;34m\u001b[0m\u001b[0m\n\u001b[0;32m---> 52\u001b[0;31m     \u001b[0;32mreturn\u001b[0m \u001b[0moperator\u001b[0m\u001b[0;34m.\u001b[0m\u001b[0mand_\u001b[0m\u001b[0;34m(\u001b[0m\u001b[0mright\u001b[0m\u001b[0;34m,\u001b[0m \u001b[0mleft\u001b[0m\u001b[0;34m)\u001b[0m\u001b[0;34m\u001b[0m\u001b[0;34m\u001b[0m\u001b[0m\n\u001b[0m\u001b[1;32m     53\u001b[0m \u001b[0;34m\u001b[0m\u001b[0m\n",
      "\u001b[0;31mTypeError\u001b[0m: unsupported operand type(s) for &: 'str' and 'str'",
      "\nDuring handling of the above exception, another exception occurred:\n",
      "\u001b[0;31mTypeError\u001b[0m                                 Traceback (most recent call last)",
      "\u001b[0;32m~/PycharmProjects/cross_lingual_reverse_dictionary/venv/lib/python3.8/site-packages/pandas/core/ops/array_ops.py\u001b[0m in \u001b[0;36mna_logical_op\u001b[0;34m(x, y, op)\u001b[0m\n\u001b[1;32m    279\u001b[0m             \u001b[0;32mtry\u001b[0m\u001b[0;34m:\u001b[0m\u001b[0;34m\u001b[0m\u001b[0;34m\u001b[0m\u001b[0m\n\u001b[0;32m--> 280\u001b[0;31m                 \u001b[0mresult\u001b[0m \u001b[0;34m=\u001b[0m \u001b[0mlibops\u001b[0m\u001b[0;34m.\u001b[0m\u001b[0mscalar_binop\u001b[0m\u001b[0;34m(\u001b[0m\u001b[0mx\u001b[0m\u001b[0;34m,\u001b[0m \u001b[0my\u001b[0m\u001b[0;34m,\u001b[0m \u001b[0mop\u001b[0m\u001b[0;34m)\u001b[0m\u001b[0;34m\u001b[0m\u001b[0;34m\u001b[0m\u001b[0m\n\u001b[0m\u001b[1;32m    281\u001b[0m             except (\n",
      "\u001b[0;32mpandas/_libs/ops.pyx\u001b[0m in \u001b[0;36mpandas._libs.ops.scalar_binop\u001b[0;34m()\u001b[0m\n",
      "\u001b[0;32m~/PycharmProjects/cross_lingual_reverse_dictionary/venv/lib/python3.8/site-packages/pandas/core/ops/roperator.py\u001b[0m in \u001b[0;36mrand_\u001b[0;34m(left, right)\u001b[0m\n\u001b[1;32m     51\u001b[0m \u001b[0;32mdef\u001b[0m \u001b[0mrand_\u001b[0m\u001b[0;34m(\u001b[0m\u001b[0mleft\u001b[0m\u001b[0;34m,\u001b[0m \u001b[0mright\u001b[0m\u001b[0;34m)\u001b[0m\u001b[0;34m:\u001b[0m\u001b[0;34m\u001b[0m\u001b[0;34m\u001b[0m\u001b[0m\n\u001b[0;32m---> 52\u001b[0;31m     \u001b[0;32mreturn\u001b[0m \u001b[0moperator\u001b[0m\u001b[0;34m.\u001b[0m\u001b[0mand_\u001b[0m\u001b[0;34m(\u001b[0m\u001b[0mright\u001b[0m\u001b[0;34m,\u001b[0m \u001b[0mleft\u001b[0m\u001b[0;34m)\u001b[0m\u001b[0;34m\u001b[0m\u001b[0;34m\u001b[0m\u001b[0m\n\u001b[0m\u001b[1;32m     53\u001b[0m \u001b[0;34m\u001b[0m\u001b[0m\n",
      "\u001b[0;31mTypeError\u001b[0m: unsupported operand type(s) for &: 'bool' and 'str'",
      "\nThe above exception was the direct cause of the following exception:\n",
      "\u001b[0;31mTypeError\u001b[0m                                 Traceback (most recent call last)",
      "\u001b[0;32m<ipython-input-62-7f2c74512512>\u001b[0m in \u001b[0;36m<module>\u001b[0;34m\u001b[0m\n\u001b[0;32m----> 1\u001b[0;31m \u001b[0mwns\u001b[0m\u001b[0;34m[\u001b[0m\u001b[0mwns\u001b[0m\u001b[0;34m.\u001b[0m\u001b[0mtype\u001b[0m \u001b[0;34m==\u001b[0m \u001b[0;34m'def'\u001b[0m \u001b[0;34m&\u001b[0m \u001b[0mwns\u001b[0m\u001b[0;34m.\u001b[0m\u001b[0mlan\u001b[0m \u001b[0;34m!=\u001b[0m \u001b[0;34m'eng'\u001b[0m\u001b[0;34m]\u001b[0m\u001b[0;34m.\u001b[0m\u001b[0mvalue_counts\u001b[0m\u001b[0;34m(\u001b[0m\u001b[0;34m)\u001b[0m\u001b[0;34m\u001b[0m\u001b[0;34m\u001b[0m\u001b[0m\n\u001b[0m",
      "\u001b[0;32m~/PycharmProjects/cross_lingual_reverse_dictionary/venv/lib/python3.8/site-packages/pandas/core/ops/common.py\u001b[0m in \u001b[0;36mnew_method\u001b[0;34m(self, other)\u001b[0m\n\u001b[1;32m     63\u001b[0m         \u001b[0mother\u001b[0m \u001b[0;34m=\u001b[0m \u001b[0mitem_from_zerodim\u001b[0m\u001b[0;34m(\u001b[0m\u001b[0mother\u001b[0m\u001b[0;34m)\u001b[0m\u001b[0;34m\u001b[0m\u001b[0;34m\u001b[0m\u001b[0m\n\u001b[1;32m     64\u001b[0m \u001b[0;34m\u001b[0m\u001b[0m\n\u001b[0;32m---> 65\u001b[0;31m         \u001b[0;32mreturn\u001b[0m \u001b[0mmethod\u001b[0m\u001b[0;34m(\u001b[0m\u001b[0mself\u001b[0m\u001b[0;34m,\u001b[0m \u001b[0mother\u001b[0m\u001b[0;34m)\u001b[0m\u001b[0;34m\u001b[0m\u001b[0;34m\u001b[0m\u001b[0m\n\u001b[0m\u001b[1;32m     66\u001b[0m \u001b[0;34m\u001b[0m\u001b[0m\n\u001b[1;32m     67\u001b[0m     \u001b[0;32mreturn\u001b[0m \u001b[0mnew_method\u001b[0m\u001b[0;34m\u001b[0m\u001b[0;34m\u001b[0m\u001b[0m\n",
      "\u001b[0;32m~/PycharmProjects/cross_lingual_reverse_dictionary/venv/lib/python3.8/site-packages/pandas/core/ops/__init__.py\u001b[0m in \u001b[0;36mwrapper\u001b[0;34m(self, other)\u001b[0m\n\u001b[1;32m    392\u001b[0m         \u001b[0mrvalues\u001b[0m \u001b[0;34m=\u001b[0m \u001b[0mextract_array\u001b[0m\u001b[0;34m(\u001b[0m\u001b[0mother\u001b[0m\u001b[0;34m,\u001b[0m \u001b[0mextract_numpy\u001b[0m\u001b[0;34m=\u001b[0m\u001b[0;32mTrue\u001b[0m\u001b[0;34m)\u001b[0m\u001b[0;34m\u001b[0m\u001b[0;34m\u001b[0m\u001b[0m\n\u001b[1;32m    393\u001b[0m \u001b[0;34m\u001b[0m\u001b[0m\n\u001b[0;32m--> 394\u001b[0;31m         \u001b[0mres_values\u001b[0m \u001b[0;34m=\u001b[0m \u001b[0mlogical_op\u001b[0m\u001b[0;34m(\u001b[0m\u001b[0mlvalues\u001b[0m\u001b[0;34m,\u001b[0m \u001b[0mrvalues\u001b[0m\u001b[0;34m,\u001b[0m \u001b[0mop\u001b[0m\u001b[0;34m)\u001b[0m\u001b[0;34m\u001b[0m\u001b[0;34m\u001b[0m\u001b[0m\n\u001b[0m\u001b[1;32m    395\u001b[0m         \u001b[0;32mreturn\u001b[0m \u001b[0mself\u001b[0m\u001b[0;34m.\u001b[0m\u001b[0m_construct_result\u001b[0m\u001b[0;34m(\u001b[0m\u001b[0mres_values\u001b[0m\u001b[0;34m,\u001b[0m \u001b[0mname\u001b[0m\u001b[0;34m=\u001b[0m\u001b[0mres_name\u001b[0m\u001b[0;34m)\u001b[0m\u001b[0;34m\u001b[0m\u001b[0;34m\u001b[0m\u001b[0m\n\u001b[1;32m    396\u001b[0m \u001b[0;34m\u001b[0m\u001b[0m\n",
      "\u001b[0;32m~/PycharmProjects/cross_lingual_reverse_dictionary/venv/lib/python3.8/site-packages/pandas/core/ops/array_ops.py\u001b[0m in \u001b[0;36mlogical_op\u001b[0;34m(left, right, op)\u001b[0m\n\u001b[1;32m    354\u001b[0m         \u001b[0mfiller\u001b[0m \u001b[0;34m=\u001b[0m \u001b[0mfill_int\u001b[0m \u001b[0;32mif\u001b[0m \u001b[0mis_self_int_dtype\u001b[0m \u001b[0;32mand\u001b[0m \u001b[0mis_other_int_dtype\u001b[0m \u001b[0;32melse\u001b[0m \u001b[0mfill_bool\u001b[0m\u001b[0;34m\u001b[0m\u001b[0;34m\u001b[0m\u001b[0m\n\u001b[1;32m    355\u001b[0m \u001b[0;34m\u001b[0m\u001b[0m\n\u001b[0;32m--> 356\u001b[0;31m         \u001b[0mres_values\u001b[0m \u001b[0;34m=\u001b[0m \u001b[0mna_logical_op\u001b[0m\u001b[0;34m(\u001b[0m\u001b[0mlvalues\u001b[0m\u001b[0;34m,\u001b[0m \u001b[0mrvalues\u001b[0m\u001b[0;34m,\u001b[0m \u001b[0mop\u001b[0m\u001b[0;34m)\u001b[0m\u001b[0;34m\u001b[0m\u001b[0;34m\u001b[0m\u001b[0m\n\u001b[0m\u001b[1;32m    357\u001b[0m         \u001b[0mres_values\u001b[0m \u001b[0;34m=\u001b[0m \u001b[0mfiller\u001b[0m\u001b[0;34m(\u001b[0m\u001b[0mres_values\u001b[0m\u001b[0;34m)\u001b[0m  \u001b[0;31m# type: ignore\u001b[0m\u001b[0;34m\u001b[0m\u001b[0;34m\u001b[0m\u001b[0m\n\u001b[1;32m    358\u001b[0m \u001b[0;34m\u001b[0m\u001b[0m\n",
      "\u001b[0;32m~/PycharmProjects/cross_lingual_reverse_dictionary/venv/lib/python3.8/site-packages/pandas/core/ops/array_ops.py\u001b[0m in \u001b[0;36mna_logical_op\u001b[0;34m(x, y, op)\u001b[0m\n\u001b[1;32m    287\u001b[0m             ) as err:\n\u001b[1;32m    288\u001b[0m                 \u001b[0mtyp\u001b[0m \u001b[0;34m=\u001b[0m \u001b[0mtype\u001b[0m\u001b[0;34m(\u001b[0m\u001b[0my\u001b[0m\u001b[0;34m)\u001b[0m\u001b[0;34m.\u001b[0m\u001b[0m__name__\u001b[0m\u001b[0;34m\u001b[0m\u001b[0;34m\u001b[0m\u001b[0m\n\u001b[0;32m--> 289\u001b[0;31m                 raise TypeError(\n\u001b[0m\u001b[1;32m    290\u001b[0m                     \u001b[0;34mf\"Cannot perform '{op.__name__}' with a dtyped [{x.dtype}] array \"\u001b[0m\u001b[0;34m\u001b[0m\u001b[0;34m\u001b[0m\u001b[0m\n\u001b[1;32m    291\u001b[0m                     \u001b[0;34mf\"and scalar of type [{typ}]\"\u001b[0m\u001b[0;34m\u001b[0m\u001b[0;34m\u001b[0m\u001b[0m\n",
      "\u001b[0;31mTypeError\u001b[0m: Cannot perform 'rand_' with a dtyped [object] array and scalar of type [bool]"
     ]
    }
   ],
   "source": [
    "wns[wns.type == 'def' & wns.lan != 'eng'].value_counts()"
   ]
  },
  {
   "cell_type": "code",
   "execution_count": 56,
   "metadata": {},
   "outputs": [
    {
     "data": {
      "text/plain": [
       "deu    110591\n",
       "cmn    104763\n",
       "fra     72022\n",
       "eng     69454\n",
       "kor     69084\n",
       "        ...  \n",
       "mah         1\n",
       "aka         1\n",
       "cbk         1\n",
       "ars         1\n",
       "lub         1\n",
       "Name: lan, Length: 417, dtype: int64"
      ]
     },
     "execution_count": 56,
     "metadata": {},
     "output_type": "execute_result"
    }
   ],
   "source": [
    "uwn_terms.lan.value_counts()"
   ]
  },
  {
   "cell_type": "code",
   "execution_count": 35,
   "metadata": {},
   "outputs": [],
   "source": [
    "wns_lemma = wns[wns.type == 'lemma'].drop(['type'], axis=1)\n",
    "uwn_terms = uwn_terms.drop(['weight'], axis=1)"
   ]
  },
  {
   "cell_type": "code",
   "execution_count": 36,
   "metadata": {},
   "outputs": [],
   "source": [
    "def get_wn_synset(synset, pos):\n",
    "    print(wn.of2ss(f'0{synset}-{pos}'))"
   ]
  },
  {
   "cell_type": "code",
   "execution_count": 37,
   "metadata": {},
   "outputs": [
    {
     "name": "stdout",
     "output_type": "stream",
     "text": [
      "Synset('entity.n.01')\n"
     ]
    }
   ],
   "source": [
    "get_wn_synset(wns_lemma.synset.iloc[0], wns_lemma.pos.iloc[0])"
   ]
  },
  {
   "cell_type": "code",
   "execution_count": 38,
   "metadata": {},
   "outputs": [
    {
     "name": "stdout",
     "output_type": "stream",
     "text": [
      "Synset('bulgarian.n.01')\n"
     ]
    }
   ],
   "source": [
    "get_wn_synset(uwn_terms.synset.iloc[0], uwn_terms.pos.iloc[0])"
   ]
  },
  {
   "cell_type": "code",
   "execution_count": 39,
   "metadata": {},
   "outputs": [],
   "source": [
    "tot = pd.concat([uwn_terms, wns_lemma], axis=0)"
   ]
  },
  {
   "cell_type": "code",
   "execution_count": 40,
   "metadata": {},
   "outputs": [
    {
     "data": {
      "text/plain": [
       "(3181180, 4)"
      ]
     },
     "execution_count": 40,
     "metadata": {},
     "output_type": "execute_result"
    }
   ],
   "source": [
    "tot.shape"
   ]
  },
  {
   "cell_type": "code",
   "execution_count": 41,
   "metadata": {},
   "outputs": [
    {
     "data": {
      "text/plain": [
       "1352936"
      ]
     },
     "execution_count": 41,
     "metadata": {},
     "output_type": "execute_result"
    }
   ],
   "source": [
    "tot.term.duplicated().sum()"
   ]
  },
  {
   "cell_type": "code",
   "execution_count": 42,
   "metadata": {},
   "outputs": [
    {
     "data": {
      "text/html": [
       "<div>\n",
       "<style scoped>\n",
       "    .dataframe tbody tr th:only-of-type {\n",
       "        vertical-align: middle;\n",
       "    }\n",
       "\n",
       "    .dataframe tbody tr th {\n",
       "        vertical-align: top;\n",
       "    }\n",
       "\n",
       "    .dataframe thead th {\n",
       "        text-align: right;\n",
       "    }\n",
       "</style>\n",
       "<table border=\"1\" class=\"dataframe\">\n",
       "  <thead>\n",
       "    <tr style=\"text-align: right;\">\n",
       "      <th></th>\n",
       "      <th>term</th>\n",
       "      <th>lan</th>\n",
       "      <th>synset</th>\n",
       "      <th>pos</th>\n",
       "    </tr>\n",
       "  </thead>\n",
       "  <tbody>\n",
       "    <tr>\n",
       "      <th>1</th>\n",
       "      <td>ბულგარულ</td>\n",
       "      <td>xmf</td>\n",
       "      <td>9695620</td>\n",
       "      <td>n</td>\n",
       "    </tr>\n",
       "    <tr>\n",
       "      <th>2</th>\n",
       "      <td>ინგლისურ</td>\n",
       "      <td>xmf</td>\n",
       "      <td>6155432</td>\n",
       "      <td>n</td>\n",
       "    </tr>\n",
       "    <tr>\n",
       "      <th>3</th>\n",
       "      <td>ინგლისურ</td>\n",
       "      <td>xmf</td>\n",
       "      <td>6947032</td>\n",
       "      <td>n</td>\n",
       "    </tr>\n",
       "    <tr>\n",
       "      <th>5</th>\n",
       "      <td>ფრანგულ</td>\n",
       "      <td>xmf</td>\n",
       "      <td>9708405</td>\n",
       "      <td>n</td>\n",
       "    </tr>\n",
       "    <tr>\n",
       "      <th>7</th>\n",
       "      <td>ესპანურ</td>\n",
       "      <td>xmf</td>\n",
       "      <td>9731906</td>\n",
       "      <td>n</td>\n",
       "    </tr>\n",
       "  </tbody>\n",
       "</table>\n",
       "</div>"
      ],
      "text/plain": [
       "       term  lan   synset pos\n",
       "1  ბულგარულ  xmf  9695620   n\n",
       "2  ინგლისურ  xmf  6155432   n\n",
       "3  ინგლისურ  xmf  6947032   n\n",
       "5   ფრანგულ  xmf  9708405   n\n",
       "7   ესპანურ  xmf  9731906   n"
      ]
     },
     "execution_count": 42,
     "metadata": {},
     "output_type": "execute_result"
    }
   ],
   "source": [
    "tot.head()"
   ]
  },
  {
   "cell_type": "code",
   "execution_count": 55,
   "metadata": {},
   "outputs": [
    {
     "data": {
      "text/plain": [
       "fin    612176\n",
       "jpn    179885\n",
       "fra    174693\n",
       "ita    123133\n",
       "deu    110591\n",
       "        ...  \n",
       "ars         1\n",
       "lub         1\n",
       "sid         1\n",
       "tmr         1\n",
       "aka         1\n",
       "Name: lan, Length: 417, dtype: int64"
      ]
     },
     "execution_count": 55,
     "metadata": {},
     "output_type": "execute_result"
    }
   ],
   "source": [
    "tot.lan.value_counts()"
   ]
  },
  {
   "cell_type": "code",
   "execution_count": 51,
   "metadata": {},
   "outputs": [
    {
     "data": {
      "text/plain": [
       "GAP!                     1298\n",
       "biti                      724\n",
       "imeti                     167\n",
       "faire                     160\n",
       "face                      160\n",
       "                         ... \n",
       "好期                          1\n",
       "Potsdamin konferenssi       1\n",
       "gangsterismo                1\n",
       "cuowu                       1\n",
       "                            1\n",
       "Name: term, Length: 1828243, dtype: int64"
      ]
     },
     "execution_count": 51,
     "metadata": {},
     "output_type": "execute_result"
    }
   ],
   "source": [
    "tot.term.value_counts()"
   ]
  },
  {
   "cell_type": "code",
   "execution_count": 52,
   "metadata": {},
   "outputs": [
    {
     "data": {
      "text/plain": [
       "n    2111276\n",
       "a     486104\n",
       "v     477034\n",
       "r     102754\n",
       "s       4012\n",
       "Name: pos, dtype: int64"
      ]
     },
     "execution_count": 52,
     "metadata": {},
     "output_type": "execute_result"
    }
   ],
   "source": [
    "tot.pos.value_counts()"
   ]
  },
  {
   "cell_type": "code",
   "execution_count": null,
   "metadata": {},
   "outputs": [],
   "source": []
  }
 ],
 "metadata": {
  "kernelspec": {
   "display_name": "Python 3",
   "language": "python",
   "name": "python3"
  },
  "language_info": {
   "codemirror_mode": {
    "name": "ipython",
    "version": 3
   },
   "file_extension": ".py",
   "mimetype": "text/x-python",
   "name": "python",
   "nbconvert_exporter": "python",
   "pygments_lexer": "ipython3",
   "version": "3.8.5"
  }
 },
 "nbformat": 4,
 "nbformat_minor": 4
}
