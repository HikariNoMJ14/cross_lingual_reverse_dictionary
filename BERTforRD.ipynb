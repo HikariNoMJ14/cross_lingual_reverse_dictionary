{
 "cells": [
  {
   "cell_type": "code",
   "execution_count": 32,
   "metadata": {},
   "outputs": [],
   "source": [
    "from BertForRD.mono.data.loader import CnLoader, EnLoader\n",
    "from BertForRD.mix.data.loader import BiUnAlignLoader, MixUnAlignLoader\n",
    "from BertForRD.joint.data.loader import BiAlignLoader, JointAlignLoader"
   ]
  },
  {
   "cell_type": "code",
   "execution_count": 27,
   "metadata": {},
   "outputs": [],
   "source": [
    "cn_mono_data = CnLoader().load('BertForRD/data/cn')\n",
    "en_mono_data = EnLoader().load('BertForRD/data/en')\n",
    "bi_unalign_data_en_fr = BiUnAlignLoader('en_fr').load('BertForRD/data/mix')\n",
    "mix_unalign_data = MixUnAlignLoader().load('BertForRD/data/mix')\n",
    "bi_align_data_en_fr = BiUnAlignLoader('en_fr').load('BertForRD/data/mix')\n",
    "joint_align_data = JointAlignLoader().load('BertForRD/data/mix')"
   ]
  },
  {
   "cell_type": "code",
   "execution_count": 50,
   "metadata": {},
   "outputs": [],
   "source": [
    "cn_mono_words = set(cn_mono_data.target_words)\n",
    "en_mono_words = set(en_mono_data.target_words)\n",
    "bi_unalign_words_en = set(bi_unalign_data.target_words_dict['en'])\n",
    "bi_unalign_words_fr = set(bi_unalign_data.target_words_dict['fr'])\n",
    "mix_unalign_words_en = set(mix_unalign_data.target_words_dict['en'])\n",
    "mix_unalign_words_fr = set(mix_unalign_data.target_words_dict['fr'])\n",
    "mix_unalign_words_es = set(mix_unalign_data.target_words_dict['es'])\n",
    "bi_align_words_en = set(bi_align_data.target_words_dict['en'])\n",
    "bi_align_words_fr = set(bi_align_data.target_words_dict['fr'])\n",
    "joint_align_words_en = set(joint_align_data.en_target_words)\n",
    "joint_align_words_es = set(joint_align_data.es_target_words)\n",
    "joint_align_words_fr = set(joint_align_data.fr_target_words)"
   ]
  },
  {
   "cell_type": "code",
   "execution_count": 56,
   "metadata": {},
   "outputs": [
    {
     "name": "stdout",
     "output_type": "stream",
     "text": [
      "58491\n",
      "50477\n",
      "------------\n",
      "41723\n",
      "37871\n",
      "33341\n",
      "------------\n"
     ]
    }
   ],
   "source": [
    "print(len(cn_mono_words))\n",
    "print(len(en_mono_words))\n",
    "print(\"------------\")\n",
    "# print(len(bi_unalign_words_en))\n",
    "# print(len(bi_unalign_words_fr))\n",
    "# print(\"------------\")\n",
    "print(len(mix_unalign_words_en))\n",
    "print(len(mix_unalign_words_fr))\n",
    "print(len(mix_unalign_words_es))\n",
    "print(\"------------\")\n",
    "# print(len(bi_align_words_en))\n",
    "# print(len(bi_align_words_fr))\n",
    "# print(\"------------\")\n",
    "# print(len(joint_align_words_en))\n",
    "# print(len(joint_align_words_fr))\n",
    "# print(len(joint_align_words_es))"
   ]
  },
  {
   "cell_type": "code",
   "execution_count": 60,
   "metadata": {},
   "outputs": [
    {
     "name": "stdout",
     "output_type": "stream",
     "text": [
      "16567\n",
      "25321\n"
     ]
    }
   ],
   "source": [
    "print(len(mix_unalign_words_en.difference(en_mono_words)))\n",
    "print(len(en_mono_words.difference(mix_unalign_words_en)))"
   ]
  },
  {
   "cell_type": "code",
   "execution_count": 84,
   "metadata": {},
   "outputs": [
    {
     "data": {
      "text/plain": [
       "+--------+---------------------------------------------------------------+\n",
       "| word   | definition                                                    |\n",
       "+--------+---------------------------------------------------------------+\n",
       "| forget | to be unable to remember something                            |\n",
       "| forget | to treat with thoughtless inattention neglect forget one s... |\n",
       "| forget | to leave behind unintentionally                               |\n",
       "| forget | to fail to mention                                            |\n",
       "| forget | to banish from one s thoughts forget a disgrace               |\n",
       "| forget | informal to disregard on purpose                              |\n",
       "| forget | usually used in the imperative oh forget it                   |\n",
       "| forget | to cease remembering let s forgive and forget                 |\n",
       "| forget | to fail or neglect to become aware at the proper or specif... |\n",
       "| forget | forget oneself to lose one s reserve temper or self restra... |\n",
       "| forget | to lose remembrance of                                        |\n",
       "| forget | to unintentionally not do neglect                             |\n",
       "| forget | to cease remembering                                          |\n",
       "| forget | euphemism for fuck screw a mild oath                          |\n",
       "| forget | to lose the remembrance of to let go from the memory to ce... |\n",
       "| ...    | ...                                                           |\n",
       "+--------+---------------------------------------------------------------+"
      ]
     },
     "execution_count": 84,
     "metadata": {},
     "output_type": "execute_result"
    }
   ],
   "source": [
    "en_mono_data.get_dataset('train')"
   ]
  },
  {
   "cell_type": "code",
   "execution_count": 88,
   "metadata": {},
   "outputs": [
    {
     "data": {
      "text/plain": [
       "+------------------+---------------------------------------------------------------+\n",
       "| word             | definition                                                    |\n",
       "+------------------+---------------------------------------------------------------+\n",
       "| classis          | an ecclesiastical body or judicatory in certain churches ,... |\n",
       "| baas             | boss , chief , superior                                       |\n",
       "| xeen             | raccoon , procyon lotor                                       |\n",
       "| roofing          | material used on the outside of a roof , such as shingles ... |\n",
       "| swinish          | like a pig , resembling a swine ; gluttonous , coarse , de... |\n",
       "| bundler          | a machine that bundles .                                      |\n",
       "| recombination    | the reverse of dissociation                                   |\n",
       "| geophysical      | of or pertaining to geophysics .                              |\n",
       "| susu             | an informal money pooling scheme practised in africa , the... |\n",
       "| superconscious   | above or beyond the conscious .                               |\n",
       "| ricerca          | search , quest , hunt , manhunt , prospecting , pursuit       |\n",
       "| reflex           | having greater than 180 degrees but less than 360 degrees ... |\n",
       "| supralapsarian   | a follower of supralapsarianism .                             |\n",
       "| glomalin         | a glycoprotein found in soil , important in the storage of... |\n",
       "| histopathologist | a person involved in histopathology .                         |\n",
       "| ...              | ...                                                           |\n",
       "+------------------+---------------------------------------------------------------+"
      ]
     },
     "execution_count": 88,
     "metadata": {},
     "output_type": "execute_result"
    }
   ],
   "source": [
    "mix_unalign_data.get_dataset('en_train')"
   ]
  },
  {
   "cell_type": "code",
   "execution_count": null,
   "metadata": {},
   "outputs": [],
   "source": []
  }
 ],
 "metadata": {
  "kernelspec": {
   "display_name": "Python 3",
   "language": "python",
   "name": "python3"
  },
  "language_info": {
   "codemirror_mode": {
    "name": "ipython",
    "version": 3
   },
   "file_extension": ".py",
   "mimetype": "text/x-python",
   "name": "python",
   "nbconvert_exporter": "python",
   "pygments_lexer": "ipython3",
   "version": "3.8.6"
  }
 },
 "nbformat": 4,
 "nbformat_minor": 4
}
